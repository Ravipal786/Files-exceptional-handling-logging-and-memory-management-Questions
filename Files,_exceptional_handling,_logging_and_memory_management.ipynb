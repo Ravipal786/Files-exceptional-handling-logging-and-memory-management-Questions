{
  "nbformat": 4,
  "nbformat_minor": 0,
  "metadata": {
    "colab": {
      "provenance": []
    },
    "kernelspec": {
      "name": "python3",
      "display_name": "Python 3"
    },
    "language_info": {
      "name": "python"
    }
  },
  "cells": [
    {
      "cell_type": "markdown",
      "source": [
        "## THEORY QUESTIONS\n"
      ],
      "metadata": {
        "id": "HHwaSIMT8hQB"
      }
    },
    {
      "cell_type": "markdown",
      "source": [
        "1. What is the difference between interpreted and compiled languages?\n",
        "   - 1. Compiled Languages:\n",
        "\n",
        "     Process: The source code of a compiled language is translated into machine code (binary code) by a compiler before it is executed. This translation process happens entirely ahead of time, and the compiled code can be directly run by the computer's hardware.\n",
        "\n",
        "     Execution: The machine code is independent of the original source code, which means it can be executed multiple times without needing to recompile the source code.\n",
        "\n",
        "     Performance: Since the code is compiled to machine code, the execution is generally faster than interpreted code because there's no need to translate it during runtime.\n",
        "\n",
        "     Examples: C, C++, Rust, Go, and Swift.\n",
        "\n",
        "     2. Interpreted Languages:\n",
        "\n",
        "     Process: In interpreted languages, the source code is executed line-by-line by an interpreter at runtime. The interpreter reads and translates the code directly into machine instructions as the program runs.\n",
        "\n",
        "     Execution: Unlike compiled languages, interpreted languages require the source code and an interpreter each time the program runs. The code is not transformed into a separate machine code file.\n",
        "\n",
        "     Performance: Since the code is translated on the fly, interpreted languages generally have slower execution times compared to compiled languages.\n",
        "\n",
        "     Examples: Python, JavaScript, Ruby, PHP.\n",
        "\n",
        "2. What is exception handling in Python?\n",
        "    -  Exception handling in Python is a mechanism that allows a program to handle errors (or exceptions) gracefully without crashing. It enables a program to anticipate potential issues, manage them appropriately, and continue execution.     \n",
        "\n",
        "3. What is the purpose of the finally block in exception handling?\n",
        "   - he finally block in exception handling is used to define code that must be executed, regardless of whether an exception occurs or not. It is guaranteed to run after the try and except blocks, ensuring that certain actions are always performed, such as cleanup or resource management.\n",
        "\n",
        "4. What is logging in Python?\n",
        "  - Logging in Python is a built-in module that provides a flexible framework for adding logging to your application. It allows you to record messages from your program, which can be crucial for debugging, monitoring, and keeping track of the program's behavior during development and production.\n",
        "\n",
        "5. What is the significance of the __del__ method in Python?\n",
        "   - he __del__ method in Python is a special method (also called a destructor) that is called when an object is about to be destroyed. It allows you to define cleanup actions or resource deallocation tasks before the object is removed from memory, such as closing files, releasing network resources, or freeing memory manually.\n",
        "\n",
        "6. What is the difference between import and from ... import in Python?\n",
        "   - In Python, both import and from ... import are used to bring in modules or specific objects from modules into the current namespace, but they work slightly differently. Here’s a detailed breakdown of the differences:\n",
        "\n",
        "     1. import Statement:\n",
        "     The import statement is used to import an entire module into the current namespace. Once imported, you access the functions, classes, or variables in the module using the module's name as a prefix.\n",
        "\n",
        "    2. from ... import Statement:\n",
        "     The from ... import statement allows you to import specific objects (functions, classes, variables) directly from a module into the current namespace. This allows you to use them directly without needing to reference the module name.\n",
        "\n",
        "7. How can you handle multiple exceptions in Python?\n",
        "   - In Python, you can handle multiple exceptions in several ways, depending on the complexity of your error handling needs. Below are the methods and approaches for handling multiple exceptions:\n",
        "\n",
        "     1. Handling Multiple Exceptions in a Single except Block-\n",
        "\n",
        "     You can handle multiple exceptions in a single except block by specifying a tuple of exception types. This approach is useful when the exceptions require the same kind of handling.\n",
        "\n",
        "    2. Handling Different Exceptions in Separate except Blocks-\n",
        "\n",
        "     You can also handle different types of exceptions in separate except blocks, allowing for more specific handling for each exception type.\n",
        "\n",
        "    3. Using else with try-except Blocks-\n",
        "\n",
        "     The else block runs only if no exceptions are raised in the try block. This can be useful if you want to run code that should only execute when the try block completes without errors.\n",
        "\n",
        "    4. Using finally Block for Cleanup-\n",
        "\n",
        "     The finally block is executed no matter what—whether or not an exception occurs. It is generally used for cleanup operations like closing files or releasing resources.\n",
        "\n",
        "    5. Catching All Exceptions with a General except-\n",
        "\n",
        "     If you're not sure which exception might occur or you want to catch all exceptions, you can use a general except block without specifying an exception type. This is generally not recommended unless necessary, as it can hide bugs.\n",
        "    6. Raising Exceptions After Handling-\n",
        "\n",
        "     Sometimes, after catching an exception, you might want to raise it again or raise a new one. This can be done using the raise keyword.\n",
        "\n",
        "8. What is the purpose of the with statement when handling files in Python?\n",
        "   - The with statement in Python is used for resource management, specifically when working with files, and it ensures that resources are properly acquired and released. When used in the context of handling files, it simplifies file operations by automatically managing the opening and closing of files, even if an exception occurs.\n",
        "\n",
        "9. What is the difference between multithreading and multiprocessing?\n",
        "   - Multithreading involves a single process that creates multiple threads within itself. Each thread can perform tasks concurrently, but all threads share the same memory space.\n",
        "\n",
        "   Multiprocessing involves multiple processes, each running independently with its own memory space. These processes do not share memory by default, unlike threads in multithreading.\n",
        "\n",
        "10. What are the advantages of using logging in a program?\n",
        "    - Using logging in a program offers several advantages, especially when compared to simpler methods like using print statements for output. Here are some key advantages of using logging:\n",
        "\n",
        "     1. Improved Debugging and Troubleshooting:\n",
        "\n",
        "     Detailed Records: Logging captures detailed information about the program's execution, which helps identify and troubleshoot issues. Logs provide a historical record of events, such as when and where an error occurred, making it easier to trace problems.\n",
        "\n",
        "     Log Levels: Logging allows different levels (e.g., DEBUG, INFO, WARNING, ERROR, CRITICAL), enabling you to control the amount and type of information logged based on the context. This helps in filtering out less important messages when troubleshooting.\n",
        "\n",
        "     2. Persistent Records:\n",
        "\n",
        "     Log Files: Logs are typically saved to files, so you have a persistent record of program activity. This can be useful for long-running programs, production systems, or for auditing purposes. Unlike print statements, which may be lost once the program finishes executing, logs can be stored and reviewed later.\n",
        "\n",
        "     Centralized Logging: Logs from different parts of an application (or even different applications) can be centralized in a logging system (e.g., ELK Stack, Splunk), providing a single point to analyze program behavior across various components.\n",
        "\n",
        "     3. Error Tracking and Monitoring:\n",
        "\n",
        "     Automatic Error Logging: With logging, errors (e.g., exceptions) can be automatically logged with stack traces, timestamps, and context information, making it easier to track problems.\n",
        "\n",
        "     Alerting: Logging frameworks can be integrated with monitoring systems that automatically alert you when certain log messages (e.g., critical errors) occur, helping you take immediate action.\n",
        "\n",
        "     4. Better Performance and Control:\n",
        "\n",
        "     Non-intrusive: Logging is a non-intrusive way to monitor and report program activity. Unlike print statements, which may clutter the output or need to be manually removed, logging can be easily toggled on or off, or configured to log only specific events.\n",
        "\n",
        "     Log Filtering and Formatting: Logging frameworks allow for flexible filtering (e.g., by log level) and formatting, so you can tailor logs to your needs and keep them clean and manageable. You can also log to different outputs (e.g., files, consoles, remote servers) with various formats.\n",
        "\n",
        "     5. Security and Auditing:\n",
        "\n",
        "     Security Logs: Logs can track important actions like user login attempts, file accesses, or changes in data, providing an audit trail for security purposes.\n",
        "\n",
        "     Regulatory Compliance: In some industries (e.g., healthcare, finance), regulatory standards may require detailed logging of specific events for compliance. Logging ensures that such records are kept automatically.\n",
        "\n",
        "     6. Separation of Concerns:\n",
        "\n",
        "     Clean Code: Using logging helps keep the program's output separate from its functional code. This ensures that debugging and monitoring information is maintained in an organized way without cluttering the logic of the program.\n",
        "\n",
        "     7. Scalability in Production:\n",
        "\n",
        "     Scalable Monitoring: In production environments, logging allows monitoring of systems that may not be easy to access in real-time. For instance, you can monitor the behavior of servers running in the cloud or in remote locations, without requiring direct interaction.\n",
        "\n",
        "     Level of Detail Control: By adjusting the logging level (e.g., setting it to INFO or WARNING in production, and DEBUG in development), you can control the level of detail logged in different environments, ensuring efficiency.\n",
        "\n",
        "     8. Thread-Safety in Concurrent Systems:\n",
        "\n",
        "     Thread-Safe Logging: In multi-threaded or multi-process programs, logging frameworks (like Python's logging module) are often designed to be thread-safe, meaning they can safely handle concurrent logging from multiple threads or processes.\n",
        "\n",
        "     9. Reusability and Standardization:\n",
        "\n",
        "     Standard Practices: By using established logging practices and frameworks, your code becomes more maintainable, readable, and consistent. Teams can collaborate more effectively by following the same logging conventions across projects.\n",
        "\n",
        "     Reusable Configuration: You can reuse logging configurations across different parts of the application or even across multiple projects, ensuring uniformity in how logs are handled.\n",
        "\n",
        "11. What is memory management in Python?\n",
        "    - Memory management in Python refers to how Python handles the allocation, tracking, and deallocation of memory during the execution of a program. It ensures that memory is used efficiently and that resources are freed when no longer needed. Python’s memory management is automatic, but it is important to understand the underlying mechanisms to optimize program performance and avoid issues like memory leaks.\n",
        "\n",
        "12. What are the basic steps involved in exception handling in Python?\n",
        "    - 1. Try Block:\n",
        "\n",
        "     The try block contains the code that might raise an exception. This is the section of the code where you suspect an error could occur.\n",
        "\n",
        "     If no exception occurs, the code runs normally, and the program continues its execution.\n",
        "\n",
        "     If an exception occurs, the code inside the try block stops executing, and Python looks for a matching except block.\n",
        "\n",
        "     2. Except Block:\n",
        "\n",
        "     The except block is where you handle the exception. You can specify the type of exception you want to handle (e.g., ZeroDivisionError, FileNotFoundError), and then define how to deal with it.\n",
        "\n",
        "     If the exception raised in the try block matches the exception type in the except block, the code inside the except block is executed. If it doesn't match, Python will continue searching for a matching except block.\n",
        "\n",
        "     You can have multiple except blocks to handle different types of exceptions.\n",
        "\n",
        "     3. Else Block:\n",
        "\n",
        "     The else block is optional and, if present, runs only if no exception was raised in the try block.\n",
        "\n",
        "     It is used to execute code that should run when the try block succeeds without any error.\n",
        "\n",
        "     4. Finally Block:\n",
        "\n",
        "     The finally block is also optional and runs no matter what, whether an exception was raised or not.\n",
        "\n",
        "     It is typically used for cleaning up resources, such as closing files, releasing network connections, or freeing memory.\n",
        "\n",
        "     The code inside the finally block will always execute, even if there was an exception or a return statement in the try or except block.\n",
        "\n",
        "13. Why is memory management important in Python?\n",
        "    - Memory management is crucial in Python (or any programming language) because it directly impacts the performance, efficiency, and stability of your program. Proper memory management ensures that resources are used optimally, prevents memory leaks, and avoids issues like crashes or excessive memory consumption.\n",
        "\n",
        "     . Optimize resource utilization and improve program performance.\n",
        "\n",
        "     . Prevent memory leaks and crashes.\n",
        "\n",
        "     . Efficiently manage large data and resources like files and network connections.\n",
        "\n",
        "     . Improve the scalability of your applications.\n",
        "\n",
        "     . Ensure stability in multi-threaded or long-running programs.\n",
        "\n",
        "14. What is the role of try and except in exception handling?\n",
        "    - In Python, try and except blocks play a central role in exception handling. They allow you to catch and handle errors (exceptions) that may occur during the execution of a program, preventing the program from crashing and enabling you to deal with errors gracefully.\n",
        "\n",
        "15. How does Python's garbage collection system work?\n",
        "    - Python’s garbage collection system is designed to automatically manage memory and reclaim unused resources, ensuring that memory is freed when objects are no longer needed. This helps avoid memory leaks and improves the overall performance of the program by automatically managing memory allocation and deallocation. Python uses a combination of reference counting and a garbage collector to handle memory management.\n",
        "\n",
        "16. What is the purpose of the else block in exception handling?\n",
        "    - The else block in Python's exception handling is used to define code that should execute only if no exception occurs in the try block. This allows you to separate the \"normal\" flow of code (the code that works correctly without errors) from the error handling logic, making the code cleaner and more readable.\n",
        "\n",
        "17. What are the common loggig levels in Python?\n",
        "    - In Python, the logging module provides a flexible framework for adding logging to your applications. Logging allows you to record information about your program’s execution, which can help with debugging, performance monitoring, and troubleshooting.\n",
        "\n",
        "18. What is the difference between os.fork() and multiprocessing in Python?\n",
        "    - os.fork() provides a low-level, Unix-specific method for creating child processes and is generally used when you need fine control over process creation.\n",
        "\n",
        "     multiprocessing is a higher-level, cross-platform alternative that abstracts many complexities of process management, making it easier to create parallel applications and manage inter-process communication and synchronization. It is typically the preferred choice for Python developers who need to work with parallelism and multi-processing.\n",
        "\n",
        "19. What is the importance of closing a file in Python?\n",
        "    - Closing a file is important for:\n",
        "\n",
        "    1. Releasing system resources and avoiding running out of file handles.\n",
        "\n",
        "    2. Ensuring data is properly saved (flushes buffers).\n",
        "\n",
        "    3. Preventing file locking issues.\n",
        "\n",
        "    4. Managing memory and avoiding memory leaks.\n",
        "\n",
        "    5. Automatically handling file closure with the with statement to ensure proper cleanup.\n",
        "\n",
        "20. What is the difference between file.read() and file.readline() in Python?\n",
        "    - 1. file.read():\n",
        "     Purpose: Reads the entire contents of the file at once (or a specified number of bytes).\n",
        "\n",
        "     How it works: When you call file.read(), it reads the file from the current file pointer until the end of the file and returns the data as a string.\n",
        "\n",
        "     Usage: Useful when you want to read the entire file content in one go.\n",
        "\n",
        "     Return type: A string (or a bytes object if the file is opened in binary mode).\n",
        "\n",
        "     How it handles newlines: If the file contains multiple lines, file.read() returns all the lines, and the newline characters (\\n) are preserved in the string.\n",
        "\n",
        "     2. file.readline():\n",
        "     Purpose: Reads one line from the file at a time.\n",
        "\n",
        "     How it works: When you call file.readline(), it reads from the current position in the file until it encounters a newline character (\\n) or the end of the file. It returns the content of that single line.\n",
        "\n",
        "     Usage: Useful when you want to read the file line by line, particularly for large files where reading the entire file at once could be inefficient.\n",
        "\n",
        "     Return type: A string representing a single line from the file (including the newline character if present).\n",
        "\n",
        "     How it handles newlines: The newline character (\\n) is included at the end of the string for each line, except for the last line, which might not have a newline at the end.\n",
        "\n",
        "21. What is the logging module in Python used for?\n",
        "   - The logging module in Python is used for tracking events, errors, and information during the execution of a program. It provides a flexible framework for logging messages from different parts of an application, which is particularly useful for debugging, monitoring, and troubleshooting. By using the logging module, developers can capture and record important runtime information, which can be used to understand the program’s behavior, detect issues, and analyze performance.\n",
        "\n",
        "22.  What is the os module in Python used for in file handling?\n",
        "     - The os module in Python provides a way to interact with the operating system, and it includes several functions that are useful for file handling tasks. Specifically, the os module allows you to perform file and directory operations, manage paths, and interact with the underlying operating system in ways that are essential for managing files and directories.\n",
        "\n",
        "23. What are the challenges associated with memory management in Python?\n",
        "    - Memory management in Python is largely handled automatically through mechanisms like garbage collection and reference counting, but it still comes with several challenges. Here are some of the common challenges associated with memory management in Python:\n",
        "\n",
        "    1. Memory Leaks\n",
        "\n",
        "     Description: A memory leak occurs when a program allocates memory but fails to release it, leading to a gradual increase in memory usage over time.\n",
        "\n",
        "     2. Memory Fragmentation\n",
        "\n",
        "     Description: Memory fragmentation occurs when free memory becomes scattered in small blocks, which may prevent large blocks of memory from being allocated even though the total free memory is sufficient.\n",
        "\n",
        "     3. Object Overhead\n",
        "\n",
        "     Description: Every object in Python has some additional memory overhead due to internal data structures, such as reference counts and type information.\n",
        "\n",
        "     4. Garbage Collection Performance\n",
        "\n",
        "     Description: Python uses automatic garbage collection (GC) to manage memory, which involves detecting and collecting unused objects.\n",
        "\n",
        "24. How do you raise an exception manually in Python?\n",
        "    - Raising exceptions manually is useful when you want to handle specific error conditions or create your own error messages in a program. By using the raise keyword, you can trigger exceptions at appropriate times to ensure the program behaves as expected, even in the case of unexpected or erroneous input.\n",
        "\n",
        "25. Why is it important to use multithreading in certain applications?\n",
        "    - Multithreading is important in applications that require concurrent execution of tasks, efficient resource utilization, improved performance (especially in I/O-bound and real-time applications), and better responsiveness (like in GUI applications). By utilizing multithreading, developers can create applications that perform better, handle multiple tasks simultaneously, and make the most of available system resources. However, multithreading also introduces complexities like synchronization issues, so it's essential to use it where appropriate and carefully manage shared resources.\n",
        "\n",
        "\n",
        "\n",
        "\n"
      ],
      "metadata": {
        "id": "3Eso7bE-8ogv"
      }
    },
    {
      "cell_type": "markdown",
      "source": [
        "## PRACTICAL QUESTION"
      ],
      "metadata": {
        "id": "Fs5SF11flwaD"
      }
    },
    {
      "cell_type": "markdown",
      "source": [
        "1. How can you open a file for writing in Python and write a string to it?"
      ],
      "metadata": {
        "id": "OWQRkggfl1n3"
      }
    },
    {
      "cell_type": "code",
      "source": [
        "# Open the file in write mode ('w')\n",
        "with open(\"example.txt\", \"w\") as file:\n",
        "    # Write a string to the file\n",
        "    file.write(\"Hello, this is a test string.\\n\")\n",
        "    file.write(\"This is the second line.\\n\")\n",
        "\n",
        "# The file is automatically closed after the block.\n"
      ],
      "metadata": {
        "id": "UeZMrqC_mDkO"
      },
      "execution_count": 3,
      "outputs": []
    },
    {
      "cell_type": "markdown",
      "source": [
        "2. Write a Python program to read the contents of a file and print each line."
      ],
      "metadata": {
        "id": "d4TYoZqVmXTZ"
      }
    },
    {
      "cell_type": "code",
      "source": [
        "# Open the file in read mode ('r')\n",
        "with open(\"example.txt\", \"r\") as file:\n",
        "    # Read and print each line\n",
        "    for line in file:\n",
        "        print(line, end=\"\")  # 'end=\"\"' to avoid adding extra newline characters\n"
      ],
      "metadata": {
        "colab": {
          "base_uri": "https://localhost:8080/"
        },
        "id": "wQcuwrbHmkl2",
        "outputId": "b0e7e01d-a653-402d-b045-603f142703cc"
      },
      "execution_count": 4,
      "outputs": [
        {
          "output_type": "stream",
          "name": "stdout",
          "text": [
            "Hello, this is a test string.\n",
            "This is the second line.\n"
          ]
        }
      ]
    },
    {
      "cell_type": "markdown",
      "source": [
        "3. How would you handle a case where the file doesn't exist while trying to open it for reading?"
      ],
      "metadata": {
        "id": "APccyKQNm2zL"
      }
    },
    {
      "cell_type": "code",
      "source": [
        "try:\n",
        "    # Try to open the file in read mode\n",
        "    with open(\"example.txt\", \"r\") as file:\n",
        "        # Read and print the contents of the file\n",
        "        for line in file:\n",
        "            print(line, end=\"\")  # 'end=\"\"' to avoid adding extra newline characters\n",
        "\n",
        "except FileNotFoundError:\n",
        "    # Handle the case where the file doesn't exist\n",
        "    print(\"Error: The file 'example.txt' does not exist.\")\n"
      ],
      "metadata": {
        "colab": {
          "base_uri": "https://localhost:8080/"
        },
        "id": "bDMhKZbfnBJ3",
        "outputId": "306deb17-94f6-4d38-e5d5-468bfc4316ca"
      },
      "execution_count": 6,
      "outputs": [
        {
          "output_type": "stream",
          "name": "stdout",
          "text": [
            "Hello, this is a test string.\n",
            "This is the second line.\n"
          ]
        }
      ]
    },
    {
      "cell_type": "markdown",
      "source": [
        "4. Write a Python script that reads from one file and writes its content to another file"
      ],
      "metadata": {
        "id": "rIAj1qBdnVV8"
      }
    },
    {
      "cell_type": "code",
      "source": [
        "# Open the source file for reading ('r') and the destination file for writing ('w')\n",
        "try:\n",
        "    with open(\"source.txt\", \"r\") as source_file:\n",
        "        with open(\"destination.txt\", \"w\") as dest_file:\n",
        "            # Read the content of the source file and write it to the destination file\n",
        "            content = source_file.read()\n",
        "            dest_file.write(content)\n",
        "\n",
        "    print(\"Content successfully copied from source.txt to destination.txt.\")\n",
        "\n",
        "except FileNotFoundError:\n",
        "    print(\"Error: One of the files (source.txt or destination.txt) does not exist.\")\n",
        "except IOError as e:\n",
        "    print(f\"Error: An I/O error occurred. {e}\")\n"
      ],
      "metadata": {
        "colab": {
          "base_uri": "https://localhost:8080/"
        },
        "id": "UDOolv9c899s",
        "outputId": "4ae7a292-ea0a-4c0f-c801-fb889ce493d1"
      },
      "execution_count": 7,
      "outputs": [
        {
          "output_type": "stream",
          "name": "stdout",
          "text": [
            "Error: One of the files (source.txt or destination.txt) does not exist.\n"
          ]
        }
      ]
    },
    {
      "cell_type": "markdown",
      "source": [
        "5. How would you catch and handle division by zero error in Python?"
      ],
      "metadata": {
        "id": "es9p6VpBoFfU"
      }
    },
    {
      "cell_type": "code",
      "source": [
        "try:\n",
        "    # Try to perform a division\n",
        "    numerator = 10\n",
        "    denominator = 0\n",
        "    result = numerator / denominator\n",
        "    print(\"Result:\", result)\n",
        "\n",
        "except ZeroDivisionError:\n",
        "    # Handle the division by zero error\n",
        "    print(\"Error: Cannot divide by zero!\")\n"
      ],
      "metadata": {
        "colab": {
          "base_uri": "https://localhost:8080/"
        },
        "id": "_STneaAJoR-X",
        "outputId": "53b70aa0-e013-49a5-92f0-ecfe4da1f2de"
      },
      "execution_count": 8,
      "outputs": [
        {
          "output_type": "stream",
          "name": "stdout",
          "text": [
            "Error: Cannot divide by zero!\n"
          ]
        }
      ]
    },
    {
      "cell_type": "markdown",
      "source": [
        "6.  Write a Python program that logs an error message to a log file when a division by zero exception occurs"
      ],
      "metadata": {
        "id": "V6adGlLyobet"
      }
    },
    {
      "cell_type": "code",
      "source": [
        "import logging\n",
        "\n",
        "# Set up logging configuration\n",
        "logging.basicConfig(\n",
        "    filename=\"error_log.txt\",  # Log file where errors will be stored\n",
        "    level=logging.ERROR,       # Log only ERROR level and above messages\n",
        "    format=\"%(asctime)s - %(levelname)s - %(message)s\"  # Log format\n",
        ")\n",
        "\n",
        "try:\n",
        "    # Try to perform a division\n",
        "    numerator = 10\n",
        "    denominator = 0\n",
        "    result = numerator / denominator\n",
        "    print(\"Result:\", result)\n",
        "\n",
        "except ZeroDivisionError as e:\n",
        "    # Log the error to the log file when division by zero occurs\n",
        "    logging.error(\"Division by zero occurred: %s\", e)\n",
        "    print(\"Error: Cannot divide by zero!\")\n"
      ],
      "metadata": {
        "colab": {
          "base_uri": "https://localhost:8080/"
        },
        "id": "E3a4tKCyohtF",
        "outputId": "2569c1f2-d54b-4a81-ff4a-c80c4664ad44"
      },
      "execution_count": 9,
      "outputs": [
        {
          "output_type": "stream",
          "name": "stderr",
          "text": [
            "ERROR:root:Division by zero occurred: division by zero\n"
          ]
        },
        {
          "output_type": "stream",
          "name": "stdout",
          "text": [
            "Error: Cannot divide by zero!\n"
          ]
        }
      ]
    },
    {
      "cell_type": "markdown",
      "source": [],
      "metadata": {
        "id": "J8rJmo4Vol8I"
      }
    },
    {
      "cell_type": "markdown",
      "source": [
        "7. F How do you log information at different levels (INFO, ERROR, WARNING) in Python using the logging module?"
      ],
      "metadata": {
        "id": "jEE72tNGop-_"
      }
    },
    {
      "cell_type": "code",
      "source": [
        "import logging\n",
        "\n",
        "# Set up logging configuration\n",
        "logging.basicConfig(\n",
        "    filename=\"app_log.txt\",  # Log file where the messages will be stored\n",
        "    level=logging.DEBUG,     # Capture logs at the DEBUG level and above\n",
        "    format=\"%(asctime)s - %(levelname)s - %(message)s\"  # Log format\n",
        ")\n",
        "\n",
        "# Log a message at INFO level\n",
        "logging.info(\"This is an informational message.\")\n",
        "\n",
        "# Log a message at WARNING level\n",
        "logging.warning(\"This is a warning message.\")\n",
        "\n",
        "# Log a message at ERROR level\n",
        "logging.error(\"This is an error message.\")\n",
        "\n",
        "# Log a message at DEBUG level\n",
        "logging.debug(\"This is a debug message.\")\n",
        "\n",
        "# Log a message at CRITICAL level\n",
        "logging.critical(\"This is a critical error message.\")\n"
      ],
      "metadata": {
        "colab": {
          "base_uri": "https://localhost:8080/"
        },
        "id": "0Vbu9grBoyT4",
        "outputId": "8c08a3aa-8294-418e-e164-936b3c5aff91"
      },
      "execution_count": 10,
      "outputs": [
        {
          "output_type": "stream",
          "name": "stderr",
          "text": [
            "WARNING:root:This is a warning message.\n",
            "ERROR:root:This is an error message.\n",
            "CRITICAL:root:This is a critical error message.\n"
          ]
        }
      ]
    },
    {
      "cell_type": "markdown",
      "source": [
        "8. Write a program to handle a file opening error using exception handling?"
      ],
      "metadata": {
        "id": "LPQ-AYPFo35z"
      }
    },
    {
      "cell_type": "code",
      "source": [
        "try:\n",
        "    # Attempt to open the file in read mode\n",
        "    with open(\"example.txt\", \"r\") as file:\n",
        "        # Read and print the contents of the file\n",
        "        content = file.read()\n",
        "        print(content)\n",
        "\n",
        "except FileNotFoundError:\n",
        "    # Handle the case when the file doesn't exist\n",
        "    print(\"Error: The file 'example.txt' was not found.\")\n",
        "\n",
        "except PermissionError:\n",
        "    # Handle the case when the file cannot be opened due to permission issues\n",
        "    print(\"Error: You do not have permission to open 'example.txt'.\")\n",
        "\n",
        "except Exception as e:\n",
        "    # Handle any other unforeseen errors\n",
        "    print(f\"An unexpected error occurred: {e}\")\n"
      ],
      "metadata": {
        "colab": {
          "base_uri": "https://localhost:8080/"
        },
        "id": "cMqOn3q0pCjj",
        "outputId": "887deb7d-4411-486c-9e44-cea8bd87fca3"
      },
      "execution_count": 11,
      "outputs": [
        {
          "output_type": "stream",
          "name": "stdout",
          "text": [
            "Hello, this is a test string.\n",
            "This is the second line.\n",
            "\n"
          ]
        }
      ]
    },
    {
      "cell_type": "markdown",
      "source": [
        "9. How can you read a file line by line and store its content in a list in Python?"
      ],
      "metadata": {
        "id": "3MQopT76pJGf"
      }
    },
    {
      "cell_type": "code",
      "source": [
        "# Open the file in read mode\n",
        "with open(\"example.txt\", \"r\") as file:\n",
        "    # Create an empty list to store the lines\n",
        "    lines = []\n",
        "\n",
        "    # Iterate over each line in the file\n",
        "    for line in file:\n",
        "        # Strip newline characters and append to the list\n",
        "        lines.append(line.strip())\n",
        "\n",
        "# Print the content of the list\n",
        "print(lines)\n"
      ],
      "metadata": {
        "colab": {
          "base_uri": "https://localhost:8080/"
        },
        "id": "kHpO_IetpYqB",
        "outputId": "6f1d99fe-476c-4b76-ab08-54c7b02edae9"
      },
      "execution_count": 12,
      "outputs": [
        {
          "output_type": "stream",
          "name": "stdout",
          "text": [
            "['Hello, this is a test string.', 'This is the second line.']\n"
          ]
        }
      ]
    },
    {
      "cell_type": "markdown",
      "source": [
        "10. How can you append data to an existing file in Python?"
      ],
      "metadata": {
        "id": "My7muBIRpdB-"
      }
    },
    {
      "cell_type": "code",
      "source": [
        "# Open the file in append mode\n",
        "with open(\"example.txt\", \"a\") as file:\n",
        "    # Append data to the file\n",
        "    file.write(\"\\nThis is a new line added to the file.\")\n",
        "    file.write(\"\\nAnother line added to the file.\")\n",
        "\n",
        "print(\"Data has been appended to the file.\")\n"
      ],
      "metadata": {
        "colab": {
          "base_uri": "https://localhost:8080/"
        },
        "id": "FGCnv7JBpmDx",
        "outputId": "84f5d2d4-6bb2-4f41-f223-aa6ca1ef2595"
      },
      "execution_count": 13,
      "outputs": [
        {
          "output_type": "stream",
          "name": "stdout",
          "text": [
            "Data has been appended to the file.\n"
          ]
        }
      ]
    },
    {
      "cell_type": "markdown",
      "source": [
        "11. Write a Python program that uses a try-except block to handle an error when attempting to access a\n",
        "dictionary key that doesn't exist"
      ],
      "metadata": {
        "id": "zSsfeMKUpske"
      }
    },
    {
      "cell_type": "code",
      "source": [
        "# Example dictionary\n",
        "my_dict = {\n",
        "    \"name\": \"Alice\",\n",
        "    \"age\": 30,\n",
        "    \"city\": \"New York\"\n",
        "}\n",
        "\n",
        "# Key to access\n",
        "key_to_access = \"address\"  # This key doesn't exist in the dictionary\n",
        "\n",
        "try:\n",
        "    # Attempt to access the dictionary with a key\n",
        "    value = my_dict[key_to_access]\n",
        "    print(f\"The value for '{key_to_access}' is: {value}\")\n",
        "except KeyError:\n",
        "    # Handle the case where the key doesn't exist\n",
        "    print(f\"Error: The key '{key_to_access}' does not exist in the dictionary.\")\n"
      ],
      "metadata": {
        "colab": {
          "base_uri": "https://localhost:8080/"
        },
        "id": "M7xj0Aa0p0QB",
        "outputId": "1dd4b12a-cad3-4252-952b-9246e146ec5d"
      },
      "execution_count": 14,
      "outputs": [
        {
          "output_type": "stream",
          "name": "stdout",
          "text": [
            "Error: The key 'address' does not exist in the dictionary.\n"
          ]
        }
      ]
    },
    {
      "cell_type": "markdown",
      "source": [
        "12.  Write a program that demonstrates using multiple except blocks to handle different types of exceptions"
      ],
      "metadata": {
        "id": "UxFXwINSp3N4"
      }
    },
    {
      "cell_type": "code",
      "source": [
        "def perform_operations():\n",
        "    try:\n",
        "        # Division by zero error\n",
        "        result = 10 / 0\n",
        "\n",
        "        # Accessing an invalid index in a list\n",
        "        my_list = [1, 2, 3]\n",
        "        print(my_list[5])\n",
        "\n",
        "        # Attempt to open a file that does not exist\n",
        "        with open(\"non_existent_file.txt\", \"r\") as file:\n",
        "            content = file.read()\n",
        "\n",
        "    except ZeroDivisionError:\n",
        "        print(\"Error: Division by zero is not allowed.\")\n",
        "\n",
        "    except IndexError:\n",
        "        print(\"Error: Index out of range in the list.\")\n",
        "\n",
        "    except FileNotFoundError:\n",
        "        print(\"Error: The file you are trying to open does not exist.\")\n",
        "\n",
        "    except Exception as e:\n",
        "        print(f\"An unexpected error occurred: {e}\")\n",
        "\n",
        "# Call the function to perform operations and handle errors\n",
        "perform_operations()\n"
      ],
      "metadata": {
        "colab": {
          "base_uri": "https://localhost:8080/"
        },
        "id": "MxsFvjf_qCxB",
        "outputId": "ef9baddf-7ded-4074-df1b-85d6273c8041"
      },
      "execution_count": 15,
      "outputs": [
        {
          "output_type": "stream",
          "name": "stdout",
          "text": [
            "Error: Division by zero is not allowed.\n"
          ]
        }
      ]
    },
    {
      "cell_type": "markdown",
      "source": [
        "13. How would you check if a file exists before attempting to read it in Python?"
      ],
      "metadata": {
        "id": "U6G01spmqIrQ"
      }
    },
    {
      "cell_type": "code",
      "source": [
        "import os\n",
        "\n",
        "# Path to the file\n",
        "file_path = \"example.txt\"\n",
        "\n",
        "# Check if the file exists\n",
        "if os.path.exists(file_path):\n",
        "    # Open the file and read its contents\n",
        "    with open(file_path, 'r') as file:\n",
        "        content = file.read()\n",
        "        print(content)\n",
        "else:\n",
        "    print(f\"Error: The file '{file_path}' does not exist.\")\n"
      ],
      "metadata": {
        "colab": {
          "base_uri": "https://localhost:8080/"
        },
        "id": "vlDTNLyNqQ25",
        "outputId": "1391991f-2e8e-4e71-d20d-b37e474037e2"
      },
      "execution_count": 16,
      "outputs": [
        {
          "output_type": "stream",
          "name": "stdout",
          "text": [
            "Hello, this is a test string.\n",
            "This is the second line.\n",
            "\n",
            "This is a new line added to the file.\n",
            "Another line added to the file.\n"
          ]
        }
      ]
    },
    {
      "cell_type": "markdown",
      "source": [
        "14. Write a program that uses the logging module to log both informational and error messages?"
      ],
      "metadata": {
        "id": "nsfmmm0UqXqR"
      }
    },
    {
      "cell_type": "code",
      "source": [
        "import logging\n",
        "\n",
        "# Set up the logging configuration\n",
        "logging.basicConfig(\n",
        "    level=logging.DEBUG,  # Set the logging level to DEBUG to capture all levels of logs\n",
        "    format='%(asctime)s - %(levelname)s - %(message)s',\n",
        "    handlers=[\n",
        "        logging.StreamHandler(),  # Logs messages to the console\n",
        "        logging.FileHandler('app.log')  # Logs messages to a file named 'app.log'\n",
        "    ]\n",
        ")\n",
        "\n",
        "# Log an informational message\n",
        "logging.info(\"This is an informational message.\")\n",
        "\n",
        "# Log an error message\n",
        "try:\n",
        "    # Simulate a division by zero error\n",
        "    result = 10 / 0\n",
        "except ZeroDivisionError as e:\n",
        "    logging.error(\"Error occurred: %s\", e)\n",
        "\n",
        "# Log another informational message\n",
        "logging.info(\"This is another informational message after the error.\")\n"
      ],
      "metadata": {
        "colab": {
          "base_uri": "https://localhost:8080/"
        },
        "id": "5C_2--y4qeRs",
        "outputId": "889b8c60-31e1-4e10-fb57-15f00aa6951f"
      },
      "execution_count": 17,
      "outputs": [
        {
          "output_type": "stream",
          "name": "stderr",
          "text": [
            "ERROR:root:Error occurred: division by zero\n"
          ]
        }
      ]
    },
    {
      "cell_type": "markdown",
      "source": [
        "15. Write a Python program that prints the content of a file and handles the case when the file is empty?"
      ],
      "metadata": {
        "id": "coFdyWGoq1pp"
      }
    },
    {
      "cell_type": "code",
      "source": [
        "def read_file(file_path):\n",
        "    try:\n",
        "        # Open the file in read mode\n",
        "        with open(file_path, 'r') as file:\n",
        "            content = file.read()\n",
        "\n",
        "            # Check if the file is empty\n",
        "            if not content:\n",
        "                print(\"The file is empty.\")\n",
        "            else:\n",
        "                print(\"File content:\")\n",
        "                print(content)\n",
        "\n",
        "    except FileNotFoundError:\n",
        "        print(f\"Error: The file '{file_path}' does not exist.\")\n",
        "    except Exception as e:\n",
        "        print(f\"An unexpected error occurred: {e}\")\n",
        "\n",
        "# Specify the path to the file you want to read\n",
        "file_path = \"example.txt\"\n",
        "\n",
        "# Call the function to read the file and handle empty file case\n",
        "read_file(file_path)\n"
      ],
      "metadata": {
        "colab": {
          "base_uri": "https://localhost:8080/"
        },
        "id": "EOTWyBykq8vB",
        "outputId": "008e5038-a09e-4f50-837f-a5486a6b8cfb"
      },
      "execution_count": 18,
      "outputs": [
        {
          "output_type": "stream",
          "name": "stdout",
          "text": [
            "File content:\n",
            "Hello, this is a test string.\n",
            "This is the second line.\n",
            "\n",
            "This is a new line added to the file.\n",
            "Another line added to the file.\n"
          ]
        }
      ]
    },
    {
      "cell_type": "markdown",
      "source": [
        "16. Demonstrate how to use memory profiling to check the memory usage of a small program"
      ],
      "metadata": {
        "id": "kwQ1AJrFrB_M"
      }
    },
    {
      "cell_type": "code",
      "source": [
        "pip install memory-profiler\n"
      ],
      "metadata": {
        "colab": {
          "base_uri": "https://localhost:8080/"
        },
        "id": "WcbJIH7Prkqv",
        "outputId": "f3ebd35c-576e-4de3-cd58-f84e8ea2de22"
      },
      "execution_count": 21,
      "outputs": [
        {
          "output_type": "stream",
          "name": "stdout",
          "text": [
            "Collecting memory-profiler\n",
            "  Downloading memory_profiler-0.61.0-py3-none-any.whl.metadata (20 kB)\n",
            "Requirement already satisfied: psutil in /usr/local/lib/python3.10/dist-packages (from memory-profiler) (5.9.5)\n",
            "Downloading memory_profiler-0.61.0-py3-none-any.whl (31 kB)\n",
            "Installing collected packages: memory-profiler\n",
            "Successfully installed memory-profiler-0.61.0\n"
          ]
        }
      ]
    },
    {
      "cell_type": "markdown",
      "source": [
        "17. Write a Python program to create and write a list of numbers to a file, one number per line?"
      ],
      "metadata": {
        "id": "xopD4psHrsT2"
      }
    },
    {
      "cell_type": "code",
      "source": [
        "# List of numbers to write to the file\n",
        "numbers = [1, 2, 3, 4, 5, 6, 7, 8, 9, 10]\n",
        "\n",
        "# Open a file for writing (this will create the file if it doesn't exist)\n",
        "with open('numbers.txt', 'w') as file:\n",
        "    # Iterate over the list of numbers\n",
        "    for number in numbers:\n",
        "        # Write each number to the file on a new line\n",
        "        file.write(f\"{number}\\n\")\n",
        "\n",
        "print(\"Numbers have been written to 'numbers.txt'.\")\n"
      ],
      "metadata": {
        "colab": {
          "base_uri": "https://localhost:8080/"
        },
        "id": "DHrivOJvr7_c",
        "outputId": "d5e7c5db-8519-4c6d-d716-e0451bdbacb8"
      },
      "execution_count": 22,
      "outputs": [
        {
          "output_type": "stream",
          "name": "stdout",
          "text": [
            "Numbers have been written to 'numbers.txt'.\n"
          ]
        }
      ]
    },
    {
      "cell_type": "markdown",
      "source": [
        "18. How would you implement a basic logging setup that logs to a file with rotation after 1MB?\n"
      ],
      "metadata": {
        "id": "6DFU_KWGsB0B"
      }
    },
    {
      "cell_type": "code",
      "source": [
        "import logging\n",
        "from logging.handlers import RotatingFileHandler\n",
        "\n",
        "# Set up a logger\n",
        "logger = logging.getLogger('MyLogger')\n",
        "logger.setLevel(logging.DEBUG)\n",
        "\n",
        "# Create a RotatingFileHandler that rotates the log after it reaches 1MB\n",
        "log_handler = RotatingFileHandler('app.log', maxBytes=1*1024*1024, backupCount=3)\n",
        "log_handler.setLevel(logging.DEBUG)\n",
        "\n",
        "# Create a formatter for the log messages\n",
        "log_format = logging.Formatter('%(asctime)s - %(levelname)s - %(message)s')\n",
        "log_handler.setFormatter(log_format)\n",
        "\n",
        "# Add the handler to the logger\n",
        "logger.addHandler(log_handler)\n",
        "\n",
        "# Example log messages\n",
        "logger.debug(\"This is a debug message.\")\n",
        "logger.info(\"This is an info message.\")\n",
        "logger.warning(\"This is a warning message.\")\n",
        "logger.error(\"This is an error message.\")\n",
        "logger.critical(\"This is a critical message.\")\n",
        "\n",
        "# Log more messages to test rotation\n",
        "for i in range(1000):\n",
        "    logger.info(f\"Logging message number {i + 1}\")\n"
      ],
      "metadata": {
        "colab": {
          "base_uri": "https://localhost:8080/"
        },
        "id": "CEgPnpg-qQ_l",
        "outputId": "1795b9fb-2d2a-4292-a83d-8af00b61e9a1"
      },
      "execution_count": 24,
      "outputs": [
        {
          "output_type": "stream",
          "name": "stderr",
          "text": [
            "DEBUG:MyLogger:This is a debug message.\n",
            "INFO:MyLogger:This is an info message.\n",
            "WARNING:MyLogger:This is a warning message.\n",
            "ERROR:MyLogger:This is an error message.\n",
            "CRITICAL:MyLogger:This is a critical message.\n",
            "INFO:MyLogger:Logging message number 1\n",
            "INFO:MyLogger:Logging message number 2\n",
            "INFO:MyLogger:Logging message number 3\n",
            "INFO:MyLogger:Logging message number 4\n",
            "INFO:MyLogger:Logging message number 5\n",
            "INFO:MyLogger:Logging message number 6\n",
            "INFO:MyLogger:Logging message number 7\n",
            "INFO:MyLogger:Logging message number 8\n",
            "INFO:MyLogger:Logging message number 9\n",
            "INFO:MyLogger:Logging message number 10\n",
            "INFO:MyLogger:Logging message number 11\n",
            "INFO:MyLogger:Logging message number 12\n",
            "INFO:MyLogger:Logging message number 13\n",
            "INFO:MyLogger:Logging message number 14\n",
            "INFO:MyLogger:Logging message number 15\n",
            "INFO:MyLogger:Logging message number 16\n",
            "INFO:MyLogger:Logging message number 17\n",
            "INFO:MyLogger:Logging message number 18\n",
            "INFO:MyLogger:Logging message number 19\n",
            "INFO:MyLogger:Logging message number 20\n",
            "INFO:MyLogger:Logging message number 21\n",
            "INFO:MyLogger:Logging message number 22\n",
            "INFO:MyLogger:Logging message number 23\n",
            "INFO:MyLogger:Logging message number 24\n",
            "INFO:MyLogger:Logging message number 25\n",
            "INFO:MyLogger:Logging message number 26\n",
            "INFO:MyLogger:Logging message number 27\n",
            "INFO:MyLogger:Logging message number 28\n",
            "INFO:MyLogger:Logging message number 29\n",
            "INFO:MyLogger:Logging message number 30\n",
            "INFO:MyLogger:Logging message number 31\n",
            "INFO:MyLogger:Logging message number 32\n",
            "INFO:MyLogger:Logging message number 33\n",
            "INFO:MyLogger:Logging message number 34\n",
            "INFO:MyLogger:Logging message number 35\n",
            "INFO:MyLogger:Logging message number 36\n",
            "INFO:MyLogger:Logging message number 37\n",
            "INFO:MyLogger:Logging message number 38\n",
            "INFO:MyLogger:Logging message number 39\n",
            "INFO:MyLogger:Logging message number 40\n",
            "INFO:MyLogger:Logging message number 41\n",
            "INFO:MyLogger:Logging message number 42\n",
            "INFO:MyLogger:Logging message number 43\n",
            "INFO:MyLogger:Logging message number 44\n",
            "INFO:MyLogger:Logging message number 45\n",
            "INFO:MyLogger:Logging message number 46\n",
            "INFO:MyLogger:Logging message number 47\n",
            "INFO:MyLogger:Logging message number 48\n",
            "INFO:MyLogger:Logging message number 49\n",
            "INFO:MyLogger:Logging message number 50\n",
            "INFO:MyLogger:Logging message number 51\n",
            "INFO:MyLogger:Logging message number 52\n",
            "INFO:MyLogger:Logging message number 53\n",
            "INFO:MyLogger:Logging message number 54\n",
            "INFO:MyLogger:Logging message number 55\n",
            "INFO:MyLogger:Logging message number 56\n",
            "INFO:MyLogger:Logging message number 57\n",
            "INFO:MyLogger:Logging message number 58\n",
            "INFO:MyLogger:Logging message number 59\n",
            "INFO:MyLogger:Logging message number 60\n",
            "INFO:MyLogger:Logging message number 61\n",
            "INFO:MyLogger:Logging message number 62\n",
            "INFO:MyLogger:Logging message number 63\n",
            "INFO:MyLogger:Logging message number 64\n",
            "INFO:MyLogger:Logging message number 65\n",
            "INFO:MyLogger:Logging message number 66\n",
            "INFO:MyLogger:Logging message number 67\n",
            "INFO:MyLogger:Logging message number 68\n",
            "INFO:MyLogger:Logging message number 69\n",
            "INFO:MyLogger:Logging message number 70\n",
            "INFO:MyLogger:Logging message number 71\n",
            "INFO:MyLogger:Logging message number 72\n",
            "INFO:MyLogger:Logging message number 73\n",
            "INFO:MyLogger:Logging message number 74\n",
            "INFO:MyLogger:Logging message number 75\n",
            "INFO:MyLogger:Logging message number 76\n",
            "INFO:MyLogger:Logging message number 77\n",
            "INFO:MyLogger:Logging message number 78\n",
            "INFO:MyLogger:Logging message number 79\n",
            "INFO:MyLogger:Logging message number 80\n",
            "INFO:MyLogger:Logging message number 81\n",
            "INFO:MyLogger:Logging message number 82\n",
            "INFO:MyLogger:Logging message number 83\n",
            "INFO:MyLogger:Logging message number 84\n",
            "INFO:MyLogger:Logging message number 85\n",
            "INFO:MyLogger:Logging message number 86\n",
            "INFO:MyLogger:Logging message number 87\n",
            "INFO:MyLogger:Logging message number 88\n",
            "INFO:MyLogger:Logging message number 89\n",
            "INFO:MyLogger:Logging message number 90\n",
            "INFO:MyLogger:Logging message number 91\n",
            "INFO:MyLogger:Logging message number 92\n",
            "INFO:MyLogger:Logging message number 93\n",
            "INFO:MyLogger:Logging message number 94\n",
            "INFO:MyLogger:Logging message number 95\n",
            "INFO:MyLogger:Logging message number 96\n",
            "INFO:MyLogger:Logging message number 97\n",
            "INFO:MyLogger:Logging message number 98\n",
            "INFO:MyLogger:Logging message number 99\n",
            "INFO:MyLogger:Logging message number 100\n",
            "INFO:MyLogger:Logging message number 101\n",
            "INFO:MyLogger:Logging message number 102\n",
            "INFO:MyLogger:Logging message number 103\n",
            "INFO:MyLogger:Logging message number 104\n",
            "INFO:MyLogger:Logging message number 105\n",
            "INFO:MyLogger:Logging message number 106\n",
            "INFO:MyLogger:Logging message number 107\n",
            "INFO:MyLogger:Logging message number 108\n",
            "INFO:MyLogger:Logging message number 109\n",
            "INFO:MyLogger:Logging message number 110\n",
            "INFO:MyLogger:Logging message number 111\n",
            "INFO:MyLogger:Logging message number 112\n",
            "INFO:MyLogger:Logging message number 113\n",
            "INFO:MyLogger:Logging message number 114\n",
            "INFO:MyLogger:Logging message number 115\n",
            "INFO:MyLogger:Logging message number 116\n",
            "INFO:MyLogger:Logging message number 117\n",
            "INFO:MyLogger:Logging message number 118\n",
            "INFO:MyLogger:Logging message number 119\n",
            "INFO:MyLogger:Logging message number 120\n",
            "INFO:MyLogger:Logging message number 121\n",
            "INFO:MyLogger:Logging message number 122\n",
            "INFO:MyLogger:Logging message number 123\n",
            "INFO:MyLogger:Logging message number 124\n",
            "INFO:MyLogger:Logging message number 125\n",
            "INFO:MyLogger:Logging message number 126\n",
            "INFO:MyLogger:Logging message number 127\n",
            "INFO:MyLogger:Logging message number 128\n",
            "INFO:MyLogger:Logging message number 129\n",
            "INFO:MyLogger:Logging message number 130\n",
            "INFO:MyLogger:Logging message number 131\n",
            "INFO:MyLogger:Logging message number 132\n",
            "INFO:MyLogger:Logging message number 133\n",
            "INFO:MyLogger:Logging message number 134\n",
            "INFO:MyLogger:Logging message number 135\n",
            "INFO:MyLogger:Logging message number 136\n",
            "INFO:MyLogger:Logging message number 137\n",
            "INFO:MyLogger:Logging message number 138\n",
            "INFO:MyLogger:Logging message number 139\n",
            "INFO:MyLogger:Logging message number 140\n",
            "INFO:MyLogger:Logging message number 141\n",
            "INFO:MyLogger:Logging message number 142\n",
            "INFO:MyLogger:Logging message number 143\n",
            "INFO:MyLogger:Logging message number 144\n",
            "INFO:MyLogger:Logging message number 145\n",
            "INFO:MyLogger:Logging message number 146\n",
            "INFO:MyLogger:Logging message number 147\n",
            "INFO:MyLogger:Logging message number 148\n",
            "INFO:MyLogger:Logging message number 149\n",
            "INFO:MyLogger:Logging message number 150\n",
            "INFO:MyLogger:Logging message number 151\n",
            "INFO:MyLogger:Logging message number 152\n",
            "INFO:MyLogger:Logging message number 153\n",
            "INFO:MyLogger:Logging message number 154\n",
            "INFO:MyLogger:Logging message number 155\n",
            "INFO:MyLogger:Logging message number 156\n",
            "INFO:MyLogger:Logging message number 157\n",
            "INFO:MyLogger:Logging message number 158\n",
            "INFO:MyLogger:Logging message number 159\n",
            "INFO:MyLogger:Logging message number 160\n",
            "INFO:MyLogger:Logging message number 161\n",
            "INFO:MyLogger:Logging message number 162\n",
            "INFO:MyLogger:Logging message number 163\n",
            "INFO:MyLogger:Logging message number 164\n",
            "INFO:MyLogger:Logging message number 165\n",
            "INFO:MyLogger:Logging message number 166\n",
            "INFO:MyLogger:Logging message number 167\n",
            "INFO:MyLogger:Logging message number 168\n",
            "INFO:MyLogger:Logging message number 169\n",
            "INFO:MyLogger:Logging message number 170\n",
            "INFO:MyLogger:Logging message number 171\n",
            "INFO:MyLogger:Logging message number 172\n",
            "INFO:MyLogger:Logging message number 173\n",
            "INFO:MyLogger:Logging message number 174\n",
            "INFO:MyLogger:Logging message number 175\n",
            "INFO:MyLogger:Logging message number 176\n",
            "INFO:MyLogger:Logging message number 177\n",
            "INFO:MyLogger:Logging message number 178\n",
            "INFO:MyLogger:Logging message number 179\n",
            "INFO:MyLogger:Logging message number 180\n",
            "INFO:MyLogger:Logging message number 181\n",
            "INFO:MyLogger:Logging message number 182\n",
            "INFO:MyLogger:Logging message number 183\n",
            "INFO:MyLogger:Logging message number 184\n",
            "INFO:MyLogger:Logging message number 185\n",
            "INFO:MyLogger:Logging message number 186\n",
            "INFO:MyLogger:Logging message number 187\n",
            "INFO:MyLogger:Logging message number 188\n",
            "INFO:MyLogger:Logging message number 189\n",
            "INFO:MyLogger:Logging message number 190\n",
            "INFO:MyLogger:Logging message number 191\n",
            "INFO:MyLogger:Logging message number 192\n",
            "INFO:MyLogger:Logging message number 193\n",
            "INFO:MyLogger:Logging message number 194\n",
            "INFO:MyLogger:Logging message number 195\n",
            "INFO:MyLogger:Logging message number 196\n",
            "INFO:MyLogger:Logging message number 197\n",
            "INFO:MyLogger:Logging message number 198\n",
            "INFO:MyLogger:Logging message number 199\n",
            "INFO:MyLogger:Logging message number 200\n",
            "INFO:MyLogger:Logging message number 201\n",
            "INFO:MyLogger:Logging message number 202\n",
            "INFO:MyLogger:Logging message number 203\n",
            "INFO:MyLogger:Logging message number 204\n",
            "INFO:MyLogger:Logging message number 205\n",
            "INFO:MyLogger:Logging message number 206\n",
            "INFO:MyLogger:Logging message number 207\n",
            "INFO:MyLogger:Logging message number 208\n",
            "INFO:MyLogger:Logging message number 209\n",
            "INFO:MyLogger:Logging message number 210\n",
            "INFO:MyLogger:Logging message number 211\n",
            "INFO:MyLogger:Logging message number 212\n",
            "INFO:MyLogger:Logging message number 213\n",
            "INFO:MyLogger:Logging message number 214\n",
            "INFO:MyLogger:Logging message number 215\n",
            "INFO:MyLogger:Logging message number 216\n",
            "INFO:MyLogger:Logging message number 217\n",
            "INFO:MyLogger:Logging message number 218\n",
            "INFO:MyLogger:Logging message number 219\n",
            "INFO:MyLogger:Logging message number 220\n",
            "INFO:MyLogger:Logging message number 221\n",
            "INFO:MyLogger:Logging message number 222\n",
            "INFO:MyLogger:Logging message number 223\n",
            "INFO:MyLogger:Logging message number 224\n",
            "INFO:MyLogger:Logging message number 225\n",
            "INFO:MyLogger:Logging message number 226\n",
            "INFO:MyLogger:Logging message number 227\n",
            "INFO:MyLogger:Logging message number 228\n",
            "INFO:MyLogger:Logging message number 229\n",
            "INFO:MyLogger:Logging message number 230\n",
            "INFO:MyLogger:Logging message number 231\n",
            "INFO:MyLogger:Logging message number 232\n",
            "INFO:MyLogger:Logging message number 233\n",
            "INFO:MyLogger:Logging message number 234\n",
            "INFO:MyLogger:Logging message number 235\n",
            "INFO:MyLogger:Logging message number 236\n",
            "INFO:MyLogger:Logging message number 237\n",
            "INFO:MyLogger:Logging message number 238\n",
            "INFO:MyLogger:Logging message number 239\n",
            "INFO:MyLogger:Logging message number 240\n",
            "INFO:MyLogger:Logging message number 241\n",
            "INFO:MyLogger:Logging message number 242\n",
            "INFO:MyLogger:Logging message number 243\n",
            "INFO:MyLogger:Logging message number 244\n",
            "INFO:MyLogger:Logging message number 245\n",
            "INFO:MyLogger:Logging message number 246\n",
            "INFO:MyLogger:Logging message number 247\n",
            "INFO:MyLogger:Logging message number 248\n",
            "INFO:MyLogger:Logging message number 249\n",
            "INFO:MyLogger:Logging message number 250\n",
            "INFO:MyLogger:Logging message number 251\n",
            "INFO:MyLogger:Logging message number 252\n",
            "INFO:MyLogger:Logging message number 253\n",
            "INFO:MyLogger:Logging message number 254\n",
            "INFO:MyLogger:Logging message number 255\n",
            "INFO:MyLogger:Logging message number 256\n",
            "INFO:MyLogger:Logging message number 257\n",
            "INFO:MyLogger:Logging message number 258\n",
            "INFO:MyLogger:Logging message number 259\n",
            "INFO:MyLogger:Logging message number 260\n",
            "INFO:MyLogger:Logging message number 261\n",
            "INFO:MyLogger:Logging message number 262\n",
            "INFO:MyLogger:Logging message number 263\n",
            "INFO:MyLogger:Logging message number 264\n",
            "INFO:MyLogger:Logging message number 265\n",
            "INFO:MyLogger:Logging message number 266\n",
            "INFO:MyLogger:Logging message number 267\n",
            "INFO:MyLogger:Logging message number 268\n",
            "INFO:MyLogger:Logging message number 269\n",
            "INFO:MyLogger:Logging message number 270\n",
            "INFO:MyLogger:Logging message number 271\n",
            "INFO:MyLogger:Logging message number 272\n",
            "INFO:MyLogger:Logging message number 273\n",
            "INFO:MyLogger:Logging message number 274\n",
            "INFO:MyLogger:Logging message number 275\n",
            "INFO:MyLogger:Logging message number 276\n",
            "INFO:MyLogger:Logging message number 277\n",
            "INFO:MyLogger:Logging message number 278\n",
            "INFO:MyLogger:Logging message number 279\n",
            "INFO:MyLogger:Logging message number 280\n",
            "INFO:MyLogger:Logging message number 281\n",
            "INFO:MyLogger:Logging message number 282\n",
            "INFO:MyLogger:Logging message number 283\n",
            "INFO:MyLogger:Logging message number 284\n",
            "INFO:MyLogger:Logging message number 285\n",
            "INFO:MyLogger:Logging message number 286\n",
            "INFO:MyLogger:Logging message number 287\n",
            "INFO:MyLogger:Logging message number 288\n",
            "INFO:MyLogger:Logging message number 289\n",
            "INFO:MyLogger:Logging message number 290\n",
            "INFO:MyLogger:Logging message number 291\n",
            "INFO:MyLogger:Logging message number 292\n",
            "INFO:MyLogger:Logging message number 293\n",
            "INFO:MyLogger:Logging message number 294\n",
            "INFO:MyLogger:Logging message number 295\n",
            "INFO:MyLogger:Logging message number 296\n",
            "INFO:MyLogger:Logging message number 297\n",
            "INFO:MyLogger:Logging message number 298\n",
            "INFO:MyLogger:Logging message number 299\n",
            "INFO:MyLogger:Logging message number 300\n",
            "INFO:MyLogger:Logging message number 301\n",
            "INFO:MyLogger:Logging message number 302\n",
            "INFO:MyLogger:Logging message number 303\n",
            "INFO:MyLogger:Logging message number 304\n",
            "INFO:MyLogger:Logging message number 305\n",
            "INFO:MyLogger:Logging message number 306\n",
            "INFO:MyLogger:Logging message number 307\n",
            "INFO:MyLogger:Logging message number 308\n",
            "INFO:MyLogger:Logging message number 309\n",
            "INFO:MyLogger:Logging message number 310\n",
            "INFO:MyLogger:Logging message number 311\n",
            "INFO:MyLogger:Logging message number 312\n",
            "INFO:MyLogger:Logging message number 313\n",
            "INFO:MyLogger:Logging message number 314\n",
            "INFO:MyLogger:Logging message number 315\n",
            "INFO:MyLogger:Logging message number 316\n",
            "INFO:MyLogger:Logging message number 317\n",
            "INFO:MyLogger:Logging message number 318\n",
            "INFO:MyLogger:Logging message number 319\n",
            "INFO:MyLogger:Logging message number 320\n",
            "INFO:MyLogger:Logging message number 321\n",
            "INFO:MyLogger:Logging message number 322\n",
            "INFO:MyLogger:Logging message number 323\n",
            "INFO:MyLogger:Logging message number 324\n",
            "INFO:MyLogger:Logging message number 325\n",
            "INFO:MyLogger:Logging message number 326\n",
            "INFO:MyLogger:Logging message number 327\n",
            "INFO:MyLogger:Logging message number 328\n",
            "INFO:MyLogger:Logging message number 329\n",
            "INFO:MyLogger:Logging message number 330\n",
            "INFO:MyLogger:Logging message number 331\n",
            "INFO:MyLogger:Logging message number 332\n",
            "INFO:MyLogger:Logging message number 333\n",
            "INFO:MyLogger:Logging message number 334\n",
            "INFO:MyLogger:Logging message number 335\n",
            "INFO:MyLogger:Logging message number 336\n",
            "INFO:MyLogger:Logging message number 337\n",
            "INFO:MyLogger:Logging message number 338\n",
            "INFO:MyLogger:Logging message number 339\n",
            "INFO:MyLogger:Logging message number 340\n",
            "INFO:MyLogger:Logging message number 341\n",
            "INFO:MyLogger:Logging message number 342\n",
            "INFO:MyLogger:Logging message number 343\n",
            "INFO:MyLogger:Logging message number 344\n",
            "INFO:MyLogger:Logging message number 345\n",
            "INFO:MyLogger:Logging message number 346\n",
            "INFO:MyLogger:Logging message number 347\n",
            "INFO:MyLogger:Logging message number 348\n",
            "INFO:MyLogger:Logging message number 349\n",
            "INFO:MyLogger:Logging message number 350\n",
            "INFO:MyLogger:Logging message number 351\n",
            "INFO:MyLogger:Logging message number 352\n",
            "INFO:MyLogger:Logging message number 353\n",
            "INFO:MyLogger:Logging message number 354\n",
            "INFO:MyLogger:Logging message number 355\n",
            "INFO:MyLogger:Logging message number 356\n",
            "INFO:MyLogger:Logging message number 357\n",
            "INFO:MyLogger:Logging message number 358\n",
            "INFO:MyLogger:Logging message number 359\n",
            "INFO:MyLogger:Logging message number 360\n",
            "INFO:MyLogger:Logging message number 361\n",
            "INFO:MyLogger:Logging message number 362\n",
            "INFO:MyLogger:Logging message number 363\n",
            "INFO:MyLogger:Logging message number 364\n",
            "INFO:MyLogger:Logging message number 365\n",
            "INFO:MyLogger:Logging message number 366\n",
            "INFO:MyLogger:Logging message number 367\n",
            "INFO:MyLogger:Logging message number 368\n",
            "INFO:MyLogger:Logging message number 369\n",
            "INFO:MyLogger:Logging message number 370\n",
            "INFO:MyLogger:Logging message number 371\n",
            "INFO:MyLogger:Logging message number 372\n",
            "INFO:MyLogger:Logging message number 373\n",
            "INFO:MyLogger:Logging message number 374\n",
            "INFO:MyLogger:Logging message number 375\n",
            "INFO:MyLogger:Logging message number 376\n",
            "INFO:MyLogger:Logging message number 377\n",
            "INFO:MyLogger:Logging message number 378\n",
            "INFO:MyLogger:Logging message number 379\n",
            "INFO:MyLogger:Logging message number 380\n",
            "INFO:MyLogger:Logging message number 381\n",
            "INFO:MyLogger:Logging message number 382\n",
            "INFO:MyLogger:Logging message number 383\n",
            "INFO:MyLogger:Logging message number 384\n",
            "INFO:MyLogger:Logging message number 385\n",
            "INFO:MyLogger:Logging message number 386\n",
            "INFO:MyLogger:Logging message number 387\n",
            "INFO:MyLogger:Logging message number 388\n",
            "INFO:MyLogger:Logging message number 389\n",
            "INFO:MyLogger:Logging message number 390\n",
            "INFO:MyLogger:Logging message number 391\n",
            "INFO:MyLogger:Logging message number 392\n",
            "INFO:MyLogger:Logging message number 393\n",
            "INFO:MyLogger:Logging message number 394\n",
            "INFO:MyLogger:Logging message number 395\n",
            "INFO:MyLogger:Logging message number 396\n",
            "INFO:MyLogger:Logging message number 397\n",
            "INFO:MyLogger:Logging message number 398\n",
            "INFO:MyLogger:Logging message number 399\n",
            "INFO:MyLogger:Logging message number 400\n",
            "INFO:MyLogger:Logging message number 401\n",
            "INFO:MyLogger:Logging message number 402\n",
            "INFO:MyLogger:Logging message number 403\n",
            "INFO:MyLogger:Logging message number 404\n",
            "INFO:MyLogger:Logging message number 405\n",
            "INFO:MyLogger:Logging message number 406\n",
            "INFO:MyLogger:Logging message number 407\n",
            "INFO:MyLogger:Logging message number 408\n",
            "INFO:MyLogger:Logging message number 409\n",
            "INFO:MyLogger:Logging message number 410\n",
            "INFO:MyLogger:Logging message number 411\n",
            "INFO:MyLogger:Logging message number 412\n",
            "INFO:MyLogger:Logging message number 413\n",
            "INFO:MyLogger:Logging message number 414\n",
            "INFO:MyLogger:Logging message number 415\n",
            "INFO:MyLogger:Logging message number 416\n",
            "INFO:MyLogger:Logging message number 417\n",
            "INFO:MyLogger:Logging message number 418\n",
            "INFO:MyLogger:Logging message number 419\n",
            "INFO:MyLogger:Logging message number 420\n",
            "INFO:MyLogger:Logging message number 421\n",
            "INFO:MyLogger:Logging message number 422\n",
            "INFO:MyLogger:Logging message number 423\n",
            "INFO:MyLogger:Logging message number 424\n",
            "INFO:MyLogger:Logging message number 425\n",
            "INFO:MyLogger:Logging message number 426\n",
            "INFO:MyLogger:Logging message number 427\n",
            "INFO:MyLogger:Logging message number 428\n",
            "INFO:MyLogger:Logging message number 429\n",
            "INFO:MyLogger:Logging message number 430\n",
            "INFO:MyLogger:Logging message number 431\n",
            "INFO:MyLogger:Logging message number 432\n",
            "INFO:MyLogger:Logging message number 433\n",
            "INFO:MyLogger:Logging message number 434\n",
            "INFO:MyLogger:Logging message number 435\n",
            "INFO:MyLogger:Logging message number 436\n",
            "INFO:MyLogger:Logging message number 437\n",
            "INFO:MyLogger:Logging message number 438\n",
            "INFO:MyLogger:Logging message number 439\n",
            "INFO:MyLogger:Logging message number 440\n",
            "INFO:MyLogger:Logging message number 441\n",
            "INFO:MyLogger:Logging message number 442\n",
            "INFO:MyLogger:Logging message number 443\n",
            "INFO:MyLogger:Logging message number 444\n",
            "INFO:MyLogger:Logging message number 445\n",
            "INFO:MyLogger:Logging message number 446\n",
            "INFO:MyLogger:Logging message number 447\n",
            "INFO:MyLogger:Logging message number 448\n",
            "INFO:MyLogger:Logging message number 449\n",
            "INFO:MyLogger:Logging message number 450\n",
            "INFO:MyLogger:Logging message number 451\n",
            "INFO:MyLogger:Logging message number 452\n",
            "INFO:MyLogger:Logging message number 453\n",
            "INFO:MyLogger:Logging message number 454\n",
            "INFO:MyLogger:Logging message number 455\n",
            "INFO:MyLogger:Logging message number 456\n",
            "INFO:MyLogger:Logging message number 457\n",
            "INFO:MyLogger:Logging message number 458\n",
            "INFO:MyLogger:Logging message number 459\n",
            "INFO:MyLogger:Logging message number 460\n",
            "INFO:MyLogger:Logging message number 461\n",
            "INFO:MyLogger:Logging message number 462\n",
            "INFO:MyLogger:Logging message number 463\n",
            "INFO:MyLogger:Logging message number 464\n",
            "INFO:MyLogger:Logging message number 465\n",
            "INFO:MyLogger:Logging message number 466\n",
            "INFO:MyLogger:Logging message number 467\n",
            "INFO:MyLogger:Logging message number 468\n",
            "INFO:MyLogger:Logging message number 469\n",
            "INFO:MyLogger:Logging message number 470\n",
            "INFO:MyLogger:Logging message number 471\n",
            "INFO:MyLogger:Logging message number 472\n",
            "INFO:MyLogger:Logging message number 473\n",
            "INFO:MyLogger:Logging message number 474\n",
            "INFO:MyLogger:Logging message number 475\n",
            "INFO:MyLogger:Logging message number 476\n",
            "INFO:MyLogger:Logging message number 477\n",
            "INFO:MyLogger:Logging message number 478\n",
            "INFO:MyLogger:Logging message number 479\n",
            "INFO:MyLogger:Logging message number 480\n",
            "INFO:MyLogger:Logging message number 481\n",
            "INFO:MyLogger:Logging message number 482\n",
            "INFO:MyLogger:Logging message number 483\n",
            "INFO:MyLogger:Logging message number 484\n",
            "INFO:MyLogger:Logging message number 485\n",
            "INFO:MyLogger:Logging message number 486\n",
            "INFO:MyLogger:Logging message number 487\n",
            "INFO:MyLogger:Logging message number 488\n",
            "INFO:MyLogger:Logging message number 489\n",
            "INFO:MyLogger:Logging message number 490\n",
            "INFO:MyLogger:Logging message number 491\n",
            "INFO:MyLogger:Logging message number 492\n",
            "INFO:MyLogger:Logging message number 493\n",
            "INFO:MyLogger:Logging message number 494\n",
            "INFO:MyLogger:Logging message number 495\n",
            "INFO:MyLogger:Logging message number 496\n",
            "INFO:MyLogger:Logging message number 497\n",
            "INFO:MyLogger:Logging message number 498\n",
            "INFO:MyLogger:Logging message number 499\n",
            "INFO:MyLogger:Logging message number 500\n",
            "INFO:MyLogger:Logging message number 501\n",
            "INFO:MyLogger:Logging message number 502\n",
            "INFO:MyLogger:Logging message number 503\n",
            "INFO:MyLogger:Logging message number 504\n",
            "INFO:MyLogger:Logging message number 505\n",
            "INFO:MyLogger:Logging message number 506\n",
            "INFO:MyLogger:Logging message number 507\n",
            "INFO:MyLogger:Logging message number 508\n",
            "INFO:MyLogger:Logging message number 509\n",
            "INFO:MyLogger:Logging message number 510\n",
            "INFO:MyLogger:Logging message number 511\n",
            "INFO:MyLogger:Logging message number 512\n",
            "INFO:MyLogger:Logging message number 513\n",
            "INFO:MyLogger:Logging message number 514\n",
            "INFO:MyLogger:Logging message number 515\n",
            "INFO:MyLogger:Logging message number 516\n",
            "INFO:MyLogger:Logging message number 517\n",
            "INFO:MyLogger:Logging message number 518\n",
            "INFO:MyLogger:Logging message number 519\n",
            "INFO:MyLogger:Logging message number 520\n",
            "INFO:MyLogger:Logging message number 521\n",
            "INFO:MyLogger:Logging message number 522\n",
            "INFO:MyLogger:Logging message number 523\n",
            "INFO:MyLogger:Logging message number 524\n",
            "INFO:MyLogger:Logging message number 525\n",
            "INFO:MyLogger:Logging message number 526\n",
            "INFO:MyLogger:Logging message number 527\n",
            "INFO:MyLogger:Logging message number 528\n",
            "INFO:MyLogger:Logging message number 529\n",
            "INFO:MyLogger:Logging message number 530\n",
            "INFO:MyLogger:Logging message number 531\n",
            "INFO:MyLogger:Logging message number 532\n",
            "INFO:MyLogger:Logging message number 533\n",
            "INFO:MyLogger:Logging message number 534\n",
            "INFO:MyLogger:Logging message number 535\n",
            "INFO:MyLogger:Logging message number 536\n",
            "INFO:MyLogger:Logging message number 537\n",
            "INFO:MyLogger:Logging message number 538\n",
            "INFO:MyLogger:Logging message number 539\n",
            "INFO:MyLogger:Logging message number 540\n",
            "INFO:MyLogger:Logging message number 541\n",
            "INFO:MyLogger:Logging message number 542\n",
            "INFO:MyLogger:Logging message number 543\n",
            "INFO:MyLogger:Logging message number 544\n",
            "INFO:MyLogger:Logging message number 545\n",
            "INFO:MyLogger:Logging message number 546\n",
            "INFO:MyLogger:Logging message number 547\n",
            "INFO:MyLogger:Logging message number 548\n",
            "INFO:MyLogger:Logging message number 549\n",
            "INFO:MyLogger:Logging message number 550\n",
            "INFO:MyLogger:Logging message number 551\n",
            "INFO:MyLogger:Logging message number 552\n",
            "INFO:MyLogger:Logging message number 553\n",
            "INFO:MyLogger:Logging message number 554\n",
            "INFO:MyLogger:Logging message number 555\n",
            "INFO:MyLogger:Logging message number 556\n",
            "INFO:MyLogger:Logging message number 557\n",
            "INFO:MyLogger:Logging message number 558\n",
            "INFO:MyLogger:Logging message number 559\n",
            "INFO:MyLogger:Logging message number 560\n",
            "INFO:MyLogger:Logging message number 561\n",
            "INFO:MyLogger:Logging message number 562\n",
            "INFO:MyLogger:Logging message number 563\n",
            "INFO:MyLogger:Logging message number 564\n",
            "INFO:MyLogger:Logging message number 565\n",
            "INFO:MyLogger:Logging message number 566\n",
            "INFO:MyLogger:Logging message number 567\n",
            "INFO:MyLogger:Logging message number 568\n",
            "INFO:MyLogger:Logging message number 569\n",
            "INFO:MyLogger:Logging message number 570\n",
            "INFO:MyLogger:Logging message number 571\n",
            "INFO:MyLogger:Logging message number 572\n",
            "INFO:MyLogger:Logging message number 573\n",
            "INFO:MyLogger:Logging message number 574\n",
            "INFO:MyLogger:Logging message number 575\n",
            "INFO:MyLogger:Logging message number 576\n",
            "INFO:MyLogger:Logging message number 577\n",
            "INFO:MyLogger:Logging message number 578\n",
            "INFO:MyLogger:Logging message number 579\n",
            "INFO:MyLogger:Logging message number 580\n",
            "INFO:MyLogger:Logging message number 581\n",
            "INFO:MyLogger:Logging message number 582\n",
            "INFO:MyLogger:Logging message number 583\n",
            "INFO:MyLogger:Logging message number 584\n",
            "INFO:MyLogger:Logging message number 585\n",
            "INFO:MyLogger:Logging message number 586\n",
            "INFO:MyLogger:Logging message number 587\n",
            "INFO:MyLogger:Logging message number 588\n",
            "INFO:MyLogger:Logging message number 589\n",
            "INFO:MyLogger:Logging message number 590\n",
            "INFO:MyLogger:Logging message number 591\n",
            "INFO:MyLogger:Logging message number 592\n",
            "INFO:MyLogger:Logging message number 593\n",
            "INFO:MyLogger:Logging message number 594\n",
            "INFO:MyLogger:Logging message number 595\n",
            "INFO:MyLogger:Logging message number 596\n",
            "INFO:MyLogger:Logging message number 597\n",
            "INFO:MyLogger:Logging message number 598\n",
            "INFO:MyLogger:Logging message number 599\n",
            "INFO:MyLogger:Logging message number 600\n",
            "INFO:MyLogger:Logging message number 601\n",
            "INFO:MyLogger:Logging message number 602\n",
            "INFO:MyLogger:Logging message number 603\n",
            "INFO:MyLogger:Logging message number 604\n",
            "INFO:MyLogger:Logging message number 605\n",
            "INFO:MyLogger:Logging message number 606\n",
            "INFO:MyLogger:Logging message number 607\n",
            "INFO:MyLogger:Logging message number 608\n",
            "INFO:MyLogger:Logging message number 609\n",
            "INFO:MyLogger:Logging message number 610\n",
            "INFO:MyLogger:Logging message number 611\n",
            "INFO:MyLogger:Logging message number 612\n",
            "INFO:MyLogger:Logging message number 613\n",
            "INFO:MyLogger:Logging message number 614\n",
            "INFO:MyLogger:Logging message number 615\n",
            "INFO:MyLogger:Logging message number 616\n",
            "INFO:MyLogger:Logging message number 617\n",
            "INFO:MyLogger:Logging message number 618\n",
            "INFO:MyLogger:Logging message number 619\n",
            "INFO:MyLogger:Logging message number 620\n",
            "INFO:MyLogger:Logging message number 621\n",
            "INFO:MyLogger:Logging message number 622\n",
            "INFO:MyLogger:Logging message number 623\n",
            "INFO:MyLogger:Logging message number 624\n",
            "INFO:MyLogger:Logging message number 625\n",
            "INFO:MyLogger:Logging message number 626\n",
            "INFO:MyLogger:Logging message number 627\n",
            "INFO:MyLogger:Logging message number 628\n",
            "INFO:MyLogger:Logging message number 629\n",
            "INFO:MyLogger:Logging message number 630\n",
            "INFO:MyLogger:Logging message number 631\n",
            "INFO:MyLogger:Logging message number 632\n",
            "INFO:MyLogger:Logging message number 633\n",
            "INFO:MyLogger:Logging message number 634\n",
            "INFO:MyLogger:Logging message number 635\n",
            "INFO:MyLogger:Logging message number 636\n",
            "INFO:MyLogger:Logging message number 637\n",
            "INFO:MyLogger:Logging message number 638\n",
            "INFO:MyLogger:Logging message number 639\n",
            "INFO:MyLogger:Logging message number 640\n",
            "INFO:MyLogger:Logging message number 641\n",
            "INFO:MyLogger:Logging message number 642\n",
            "INFO:MyLogger:Logging message number 643\n",
            "INFO:MyLogger:Logging message number 644\n",
            "INFO:MyLogger:Logging message number 645\n",
            "INFO:MyLogger:Logging message number 646\n",
            "INFO:MyLogger:Logging message number 647\n",
            "INFO:MyLogger:Logging message number 648\n",
            "INFO:MyLogger:Logging message number 649\n",
            "INFO:MyLogger:Logging message number 650\n",
            "INFO:MyLogger:Logging message number 651\n",
            "INFO:MyLogger:Logging message number 652\n",
            "INFO:MyLogger:Logging message number 653\n",
            "INFO:MyLogger:Logging message number 654\n",
            "INFO:MyLogger:Logging message number 655\n",
            "INFO:MyLogger:Logging message number 656\n",
            "INFO:MyLogger:Logging message number 657\n",
            "INFO:MyLogger:Logging message number 658\n",
            "INFO:MyLogger:Logging message number 659\n",
            "INFO:MyLogger:Logging message number 660\n",
            "INFO:MyLogger:Logging message number 661\n",
            "INFO:MyLogger:Logging message number 662\n",
            "INFO:MyLogger:Logging message number 663\n",
            "INFO:MyLogger:Logging message number 664\n",
            "INFO:MyLogger:Logging message number 665\n",
            "INFO:MyLogger:Logging message number 666\n",
            "INFO:MyLogger:Logging message number 667\n",
            "INFO:MyLogger:Logging message number 668\n",
            "INFO:MyLogger:Logging message number 669\n",
            "INFO:MyLogger:Logging message number 670\n",
            "INFO:MyLogger:Logging message number 671\n",
            "INFO:MyLogger:Logging message number 672\n",
            "INFO:MyLogger:Logging message number 673\n",
            "INFO:MyLogger:Logging message number 674\n",
            "INFO:MyLogger:Logging message number 675\n",
            "INFO:MyLogger:Logging message number 676\n",
            "INFO:MyLogger:Logging message number 677\n",
            "INFO:MyLogger:Logging message number 678\n",
            "INFO:MyLogger:Logging message number 679\n",
            "INFO:MyLogger:Logging message number 680\n",
            "INFO:MyLogger:Logging message number 681\n",
            "INFO:MyLogger:Logging message number 682\n",
            "INFO:MyLogger:Logging message number 683\n",
            "INFO:MyLogger:Logging message number 684\n",
            "INFO:MyLogger:Logging message number 685\n",
            "INFO:MyLogger:Logging message number 686\n",
            "INFO:MyLogger:Logging message number 687\n",
            "INFO:MyLogger:Logging message number 688\n",
            "INFO:MyLogger:Logging message number 689\n",
            "INFO:MyLogger:Logging message number 690\n",
            "INFO:MyLogger:Logging message number 691\n",
            "INFO:MyLogger:Logging message number 692\n",
            "INFO:MyLogger:Logging message number 693\n",
            "INFO:MyLogger:Logging message number 694\n",
            "INFO:MyLogger:Logging message number 695\n",
            "INFO:MyLogger:Logging message number 696\n",
            "INFO:MyLogger:Logging message number 697\n",
            "INFO:MyLogger:Logging message number 698\n",
            "INFO:MyLogger:Logging message number 699\n",
            "INFO:MyLogger:Logging message number 700\n",
            "INFO:MyLogger:Logging message number 701\n",
            "INFO:MyLogger:Logging message number 702\n",
            "INFO:MyLogger:Logging message number 703\n",
            "INFO:MyLogger:Logging message number 704\n",
            "INFO:MyLogger:Logging message number 705\n",
            "INFO:MyLogger:Logging message number 706\n",
            "INFO:MyLogger:Logging message number 707\n",
            "INFO:MyLogger:Logging message number 708\n",
            "INFO:MyLogger:Logging message number 709\n",
            "INFO:MyLogger:Logging message number 710\n",
            "INFO:MyLogger:Logging message number 711\n",
            "INFO:MyLogger:Logging message number 712\n",
            "INFO:MyLogger:Logging message number 713\n",
            "INFO:MyLogger:Logging message number 714\n",
            "INFO:MyLogger:Logging message number 715\n",
            "INFO:MyLogger:Logging message number 716\n",
            "INFO:MyLogger:Logging message number 717\n",
            "INFO:MyLogger:Logging message number 718\n",
            "INFO:MyLogger:Logging message number 719\n",
            "INFO:MyLogger:Logging message number 720\n",
            "INFO:MyLogger:Logging message number 721\n",
            "INFO:MyLogger:Logging message number 722\n",
            "INFO:MyLogger:Logging message number 723\n",
            "INFO:MyLogger:Logging message number 724\n",
            "INFO:MyLogger:Logging message number 725\n",
            "INFO:MyLogger:Logging message number 726\n",
            "INFO:MyLogger:Logging message number 727\n",
            "INFO:MyLogger:Logging message number 728\n",
            "INFO:MyLogger:Logging message number 729\n",
            "INFO:MyLogger:Logging message number 730\n",
            "INFO:MyLogger:Logging message number 731\n",
            "INFO:MyLogger:Logging message number 732\n",
            "INFO:MyLogger:Logging message number 733\n",
            "INFO:MyLogger:Logging message number 734\n",
            "INFO:MyLogger:Logging message number 735\n",
            "INFO:MyLogger:Logging message number 736\n",
            "INFO:MyLogger:Logging message number 737\n",
            "INFO:MyLogger:Logging message number 738\n",
            "INFO:MyLogger:Logging message number 739\n",
            "INFO:MyLogger:Logging message number 740\n",
            "INFO:MyLogger:Logging message number 741\n",
            "INFO:MyLogger:Logging message number 742\n",
            "INFO:MyLogger:Logging message number 743\n",
            "INFO:MyLogger:Logging message number 744\n",
            "INFO:MyLogger:Logging message number 745\n",
            "INFO:MyLogger:Logging message number 746\n",
            "INFO:MyLogger:Logging message number 747\n",
            "INFO:MyLogger:Logging message number 748\n",
            "INFO:MyLogger:Logging message number 749\n",
            "INFO:MyLogger:Logging message number 750\n",
            "INFO:MyLogger:Logging message number 751\n",
            "INFO:MyLogger:Logging message number 752\n",
            "INFO:MyLogger:Logging message number 753\n",
            "INFO:MyLogger:Logging message number 754\n",
            "INFO:MyLogger:Logging message number 755\n",
            "INFO:MyLogger:Logging message number 756\n",
            "INFO:MyLogger:Logging message number 757\n",
            "INFO:MyLogger:Logging message number 758\n",
            "INFO:MyLogger:Logging message number 759\n",
            "INFO:MyLogger:Logging message number 760\n",
            "INFO:MyLogger:Logging message number 761\n",
            "INFO:MyLogger:Logging message number 762\n",
            "INFO:MyLogger:Logging message number 763\n",
            "INFO:MyLogger:Logging message number 764\n",
            "INFO:MyLogger:Logging message number 765\n",
            "INFO:MyLogger:Logging message number 766\n",
            "INFO:MyLogger:Logging message number 767\n",
            "INFO:MyLogger:Logging message number 768\n",
            "INFO:MyLogger:Logging message number 769\n",
            "INFO:MyLogger:Logging message number 770\n",
            "INFO:MyLogger:Logging message number 771\n",
            "INFO:MyLogger:Logging message number 772\n",
            "INFO:MyLogger:Logging message number 773\n",
            "INFO:MyLogger:Logging message number 774\n",
            "INFO:MyLogger:Logging message number 775\n",
            "INFO:MyLogger:Logging message number 776\n",
            "INFO:MyLogger:Logging message number 777\n",
            "INFO:MyLogger:Logging message number 778\n",
            "INFO:MyLogger:Logging message number 779\n",
            "INFO:MyLogger:Logging message number 780\n",
            "INFO:MyLogger:Logging message number 781\n",
            "INFO:MyLogger:Logging message number 782\n",
            "INFO:MyLogger:Logging message number 783\n",
            "INFO:MyLogger:Logging message number 784\n",
            "INFO:MyLogger:Logging message number 785\n",
            "INFO:MyLogger:Logging message number 786\n",
            "INFO:MyLogger:Logging message number 787\n",
            "INFO:MyLogger:Logging message number 788\n",
            "INFO:MyLogger:Logging message number 789\n",
            "INFO:MyLogger:Logging message number 790\n",
            "INFO:MyLogger:Logging message number 791\n",
            "INFO:MyLogger:Logging message number 792\n",
            "INFO:MyLogger:Logging message number 793\n",
            "INFO:MyLogger:Logging message number 794\n",
            "INFO:MyLogger:Logging message number 795\n",
            "INFO:MyLogger:Logging message number 796\n",
            "INFO:MyLogger:Logging message number 797\n",
            "INFO:MyLogger:Logging message number 798\n",
            "INFO:MyLogger:Logging message number 799\n",
            "INFO:MyLogger:Logging message number 800\n",
            "INFO:MyLogger:Logging message number 801\n",
            "INFO:MyLogger:Logging message number 802\n",
            "INFO:MyLogger:Logging message number 803\n",
            "INFO:MyLogger:Logging message number 804\n",
            "INFO:MyLogger:Logging message number 805\n",
            "INFO:MyLogger:Logging message number 806\n",
            "INFO:MyLogger:Logging message number 807\n",
            "INFO:MyLogger:Logging message number 808\n",
            "INFO:MyLogger:Logging message number 809\n",
            "INFO:MyLogger:Logging message number 810\n",
            "INFO:MyLogger:Logging message number 811\n",
            "INFO:MyLogger:Logging message number 812\n",
            "INFO:MyLogger:Logging message number 813\n",
            "INFO:MyLogger:Logging message number 814\n",
            "INFO:MyLogger:Logging message number 815\n",
            "INFO:MyLogger:Logging message number 816\n",
            "INFO:MyLogger:Logging message number 817\n",
            "INFO:MyLogger:Logging message number 818\n",
            "INFO:MyLogger:Logging message number 819\n",
            "INFO:MyLogger:Logging message number 820\n",
            "INFO:MyLogger:Logging message number 821\n",
            "INFO:MyLogger:Logging message number 822\n",
            "INFO:MyLogger:Logging message number 823\n",
            "INFO:MyLogger:Logging message number 824\n",
            "INFO:MyLogger:Logging message number 825\n",
            "INFO:MyLogger:Logging message number 826\n",
            "INFO:MyLogger:Logging message number 827\n",
            "INFO:MyLogger:Logging message number 828\n",
            "INFO:MyLogger:Logging message number 829\n",
            "INFO:MyLogger:Logging message number 830\n",
            "INFO:MyLogger:Logging message number 831\n",
            "INFO:MyLogger:Logging message number 832\n",
            "INFO:MyLogger:Logging message number 833\n",
            "INFO:MyLogger:Logging message number 834\n",
            "INFO:MyLogger:Logging message number 835\n",
            "INFO:MyLogger:Logging message number 836\n",
            "INFO:MyLogger:Logging message number 837\n",
            "INFO:MyLogger:Logging message number 838\n",
            "INFO:MyLogger:Logging message number 839\n",
            "INFO:MyLogger:Logging message number 840\n",
            "INFO:MyLogger:Logging message number 841\n",
            "INFO:MyLogger:Logging message number 842\n",
            "INFO:MyLogger:Logging message number 843\n",
            "INFO:MyLogger:Logging message number 844\n",
            "INFO:MyLogger:Logging message number 845\n",
            "INFO:MyLogger:Logging message number 846\n",
            "INFO:MyLogger:Logging message number 847\n",
            "INFO:MyLogger:Logging message number 848\n",
            "INFO:MyLogger:Logging message number 849\n",
            "INFO:MyLogger:Logging message number 850\n",
            "INFO:MyLogger:Logging message number 851\n",
            "INFO:MyLogger:Logging message number 852\n",
            "INFO:MyLogger:Logging message number 853\n",
            "INFO:MyLogger:Logging message number 854\n",
            "INFO:MyLogger:Logging message number 855\n",
            "INFO:MyLogger:Logging message number 856\n",
            "INFO:MyLogger:Logging message number 857\n",
            "INFO:MyLogger:Logging message number 858\n",
            "INFO:MyLogger:Logging message number 859\n",
            "INFO:MyLogger:Logging message number 860\n",
            "INFO:MyLogger:Logging message number 861\n",
            "INFO:MyLogger:Logging message number 862\n",
            "INFO:MyLogger:Logging message number 863\n",
            "INFO:MyLogger:Logging message number 864\n",
            "INFO:MyLogger:Logging message number 865\n",
            "INFO:MyLogger:Logging message number 866\n",
            "INFO:MyLogger:Logging message number 867\n",
            "INFO:MyLogger:Logging message number 868\n",
            "INFO:MyLogger:Logging message number 869\n",
            "INFO:MyLogger:Logging message number 870\n",
            "INFO:MyLogger:Logging message number 871\n",
            "INFO:MyLogger:Logging message number 872\n",
            "INFO:MyLogger:Logging message number 873\n",
            "INFO:MyLogger:Logging message number 874\n",
            "INFO:MyLogger:Logging message number 875\n",
            "INFO:MyLogger:Logging message number 876\n",
            "INFO:MyLogger:Logging message number 877\n",
            "INFO:MyLogger:Logging message number 878\n",
            "INFO:MyLogger:Logging message number 879\n",
            "INFO:MyLogger:Logging message number 880\n",
            "INFO:MyLogger:Logging message number 881\n",
            "INFO:MyLogger:Logging message number 882\n",
            "INFO:MyLogger:Logging message number 883\n",
            "INFO:MyLogger:Logging message number 884\n",
            "INFO:MyLogger:Logging message number 885\n",
            "INFO:MyLogger:Logging message number 886\n",
            "INFO:MyLogger:Logging message number 887\n",
            "INFO:MyLogger:Logging message number 888\n",
            "INFO:MyLogger:Logging message number 889\n",
            "INFO:MyLogger:Logging message number 890\n",
            "INFO:MyLogger:Logging message number 891\n",
            "INFO:MyLogger:Logging message number 892\n",
            "INFO:MyLogger:Logging message number 893\n",
            "INFO:MyLogger:Logging message number 894\n",
            "INFO:MyLogger:Logging message number 895\n",
            "INFO:MyLogger:Logging message number 896\n",
            "INFO:MyLogger:Logging message number 897\n",
            "INFO:MyLogger:Logging message number 898\n",
            "INFO:MyLogger:Logging message number 899\n",
            "INFO:MyLogger:Logging message number 900\n",
            "INFO:MyLogger:Logging message number 901\n",
            "INFO:MyLogger:Logging message number 902\n",
            "INFO:MyLogger:Logging message number 903\n",
            "INFO:MyLogger:Logging message number 904\n",
            "INFO:MyLogger:Logging message number 905\n",
            "INFO:MyLogger:Logging message number 906\n",
            "INFO:MyLogger:Logging message number 907\n",
            "INFO:MyLogger:Logging message number 908\n",
            "INFO:MyLogger:Logging message number 909\n",
            "INFO:MyLogger:Logging message number 910\n",
            "INFO:MyLogger:Logging message number 911\n",
            "INFO:MyLogger:Logging message number 912\n",
            "INFO:MyLogger:Logging message number 913\n",
            "INFO:MyLogger:Logging message number 914\n",
            "INFO:MyLogger:Logging message number 915\n",
            "INFO:MyLogger:Logging message number 916\n",
            "INFO:MyLogger:Logging message number 917\n",
            "INFO:MyLogger:Logging message number 918\n",
            "INFO:MyLogger:Logging message number 919\n",
            "INFO:MyLogger:Logging message number 920\n",
            "INFO:MyLogger:Logging message number 921\n",
            "INFO:MyLogger:Logging message number 922\n",
            "INFO:MyLogger:Logging message number 923\n",
            "INFO:MyLogger:Logging message number 924\n",
            "INFO:MyLogger:Logging message number 925\n",
            "INFO:MyLogger:Logging message number 926\n",
            "INFO:MyLogger:Logging message number 927\n",
            "INFO:MyLogger:Logging message number 928\n",
            "INFO:MyLogger:Logging message number 929\n",
            "INFO:MyLogger:Logging message number 930\n",
            "INFO:MyLogger:Logging message number 931\n",
            "INFO:MyLogger:Logging message number 932\n",
            "INFO:MyLogger:Logging message number 933\n",
            "INFO:MyLogger:Logging message number 934\n",
            "INFO:MyLogger:Logging message number 935\n",
            "INFO:MyLogger:Logging message number 936\n",
            "INFO:MyLogger:Logging message number 937\n",
            "INFO:MyLogger:Logging message number 938\n",
            "INFO:MyLogger:Logging message number 939\n",
            "INFO:MyLogger:Logging message number 940\n",
            "INFO:MyLogger:Logging message number 941\n",
            "INFO:MyLogger:Logging message number 942\n",
            "INFO:MyLogger:Logging message number 943\n",
            "INFO:MyLogger:Logging message number 944\n",
            "INFO:MyLogger:Logging message number 945\n",
            "INFO:MyLogger:Logging message number 946\n",
            "INFO:MyLogger:Logging message number 947\n",
            "INFO:MyLogger:Logging message number 948\n",
            "INFO:MyLogger:Logging message number 949\n",
            "INFO:MyLogger:Logging message number 950\n",
            "INFO:MyLogger:Logging message number 951\n",
            "INFO:MyLogger:Logging message number 952\n",
            "INFO:MyLogger:Logging message number 953\n",
            "INFO:MyLogger:Logging message number 954\n",
            "INFO:MyLogger:Logging message number 955\n",
            "INFO:MyLogger:Logging message number 956\n",
            "INFO:MyLogger:Logging message number 957\n",
            "INFO:MyLogger:Logging message number 958\n",
            "INFO:MyLogger:Logging message number 959\n",
            "INFO:MyLogger:Logging message number 960\n",
            "INFO:MyLogger:Logging message number 961\n",
            "INFO:MyLogger:Logging message number 962\n",
            "INFO:MyLogger:Logging message number 963\n",
            "INFO:MyLogger:Logging message number 964\n",
            "INFO:MyLogger:Logging message number 965\n",
            "INFO:MyLogger:Logging message number 966\n",
            "INFO:MyLogger:Logging message number 967\n",
            "INFO:MyLogger:Logging message number 968\n",
            "INFO:MyLogger:Logging message number 969\n",
            "INFO:MyLogger:Logging message number 970\n",
            "INFO:MyLogger:Logging message number 971\n",
            "INFO:MyLogger:Logging message number 972\n",
            "INFO:MyLogger:Logging message number 973\n",
            "INFO:MyLogger:Logging message number 974\n",
            "INFO:MyLogger:Logging message number 975\n",
            "INFO:MyLogger:Logging message number 976\n",
            "INFO:MyLogger:Logging message number 977\n",
            "INFO:MyLogger:Logging message number 978\n",
            "INFO:MyLogger:Logging message number 979\n",
            "INFO:MyLogger:Logging message number 980\n",
            "INFO:MyLogger:Logging message number 981\n",
            "INFO:MyLogger:Logging message number 982\n",
            "INFO:MyLogger:Logging message number 983\n",
            "INFO:MyLogger:Logging message number 984\n",
            "INFO:MyLogger:Logging message number 985\n",
            "INFO:MyLogger:Logging message number 986\n",
            "INFO:MyLogger:Logging message number 987\n",
            "INFO:MyLogger:Logging message number 988\n",
            "INFO:MyLogger:Logging message number 989\n",
            "INFO:MyLogger:Logging message number 990\n",
            "INFO:MyLogger:Logging message number 991\n",
            "INFO:MyLogger:Logging message number 992\n",
            "INFO:MyLogger:Logging message number 993\n",
            "INFO:MyLogger:Logging message number 994\n",
            "INFO:MyLogger:Logging message number 995\n",
            "INFO:MyLogger:Logging message number 996\n",
            "INFO:MyLogger:Logging message number 997\n",
            "INFO:MyLogger:Logging message number 998\n",
            "INFO:MyLogger:Logging message number 999\n",
            "INFO:MyLogger:Logging message number 1000\n"
          ]
        }
      ]
    },
    {
      "cell_type": "markdown",
      "source": [
        "19. Write a program that handles both IndexError and KeyError using a try-except block"
      ],
      "metadata": {
        "id": "Vxce3xYmsh8o"
      }
    },
    {
      "cell_type": "code",
      "source": [
        "def handle_exceptions():\n",
        "    # Example 1: Handling IndexError (List indexing)\n",
        "    my_list = [1, 2, 3]\n",
        "    try:\n",
        "        # Trying to access an index that doesn't exist\n",
        "        print(my_list[5])\n",
        "    except IndexError as e:\n",
        "        print(f\"IndexError occurred: {e}\")\n",
        "\n",
        "    # Example 2: Handling KeyError (Dictionary key access)\n",
        "    my_dict = {'name': 'Alice', 'age': 25}\n",
        "    try:\n",
        "        # Trying to access a key that doesn't exist in the dictionary\n",
        "        print(my_dict['address'])\n",
        "    except KeyError as e:\n",
        "        print(f\"KeyError occurred: {e}\")\n",
        "\n",
        "if __name__ == \"__main__\":\n",
        "    handle_exceptions()\n"
      ],
      "metadata": {
        "colab": {
          "base_uri": "https://localhost:8080/"
        },
        "id": "EnCTu6GNsrzj",
        "outputId": "4cb2ac85-abd0-4a96-93a4-ddefbe6025bc"
      },
      "execution_count": 25,
      "outputs": [
        {
          "output_type": "stream",
          "name": "stdout",
          "text": [
            "IndexError occurred: list index out of range\n",
            "KeyError occurred: 'address'\n"
          ]
        }
      ]
    },
    {
      "cell_type": "markdown",
      "source": [
        "20. How would you open a file and read its contents using a context manager in Python?"
      ],
      "metadata": {
        "id": "LaDpYfLEs0eP"
      }
    },
    {
      "cell_type": "code",
      "source": [
        "def read_file(file_path):\n",
        "    try:\n",
        "        # Use a context manager to open the file\n",
        "        with open(file_path, 'r') as file:\n",
        "            # Read the entire contents of the file\n",
        "            content = file.read()\n",
        "            print(content)\n",
        "    except FileNotFoundError:\n",
        "        print(f\"Error: The file '{file_path}' was not found.\")\n",
        "    except Exception as e:\n",
        "        print(f\"An error occurred: {e}\")\n",
        "\n",
        "# Specify the path to the file\n",
        "file_path = 'example.txt'\n",
        "\n",
        "# Call the function to read the file\n",
        "read_file(file_path)\n"
      ],
      "metadata": {
        "colab": {
          "base_uri": "https://localhost:8080/"
        },
        "id": "sSkWbBPTtDlN",
        "outputId": "adfc8110-3990-454f-d3d5-a3add48fd302"
      },
      "execution_count": 26,
      "outputs": [
        {
          "output_type": "stream",
          "name": "stdout",
          "text": [
            "Hello, this is a test string.\n",
            "This is the second line.\n",
            "\n",
            "This is a new line added to the file.\n",
            "Another line added to the file.\n"
          ]
        }
      ]
    },
    {
      "cell_type": "markdown",
      "source": [
        "21. Write a Python program that reads a file and prints the number of occurrences of a specific word?"
      ],
      "metadata": {
        "id": "NHfoR5z0tPUw"
      }
    },
    {
      "cell_type": "code",
      "source": [
        "def count_word_occurrences(file_path, word):\n",
        "    try:\n",
        "        # Initialize a counter for occurrences\n",
        "        word_count = 0\n",
        "\n",
        "        # Use a context manager to open the file\n",
        "        with open(file_path, 'r') as file:\n",
        "            # Iterate through each line in the file\n",
        "            for line in file:\n",
        "                # Count occurrences of the word in the current line\n",
        "                word_count += line.lower().count(word.lower())  # Case insensitive count\n",
        "\n",
        "        # Print the total occurrences\n",
        "        print(f\"The word '{word}' occurred {word_count} times in the file.\")\n",
        "\n",
        "    except FileNotFoundError:\n",
        "        print(f\"Error: The file '{file_path}' was not found.\")\n",
        "    except Exception as e:\n",
        "        print(f\"An error occurred: {e}\")\n",
        "\n",
        "# Specify the path to the file and the word to count\n",
        "file_path = 'example.txt'\n",
        "word = 'python'\n",
        "\n",
        "# Call the function to count the word occurrences\n",
        "count_word_occurrences(file_path, word)\n"
      ],
      "metadata": {
        "colab": {
          "base_uri": "https://localhost:8080/"
        },
        "id": "T_0uNRUWtahT",
        "outputId": "d549bdd5-99a1-46ee-e1a1-5a9aa1277735"
      },
      "execution_count": 27,
      "outputs": [
        {
          "output_type": "stream",
          "name": "stdout",
          "text": [
            "The word 'python' occurred 0 times in the file.\n"
          ]
        }
      ]
    },
    {
      "cell_type": "markdown",
      "source": [
        "22. How can you check if a file is empty before attempting to read its contents?"
      ],
      "metadata": {
        "id": "PIGmS0KCtg0D"
      }
    },
    {
      "cell_type": "code",
      "source": [
        "import os\n",
        "\n",
        "def read_file_if_not_empty(file_path):\n",
        "    # Check if the file exists and is not empty\n",
        "    if os.path.exists(file_path):\n",
        "        if os.path.getsize(file_path) > 0:\n",
        "            # File is not empty, proceed to read\n",
        "            with open(file_path, 'r') as file:\n",
        "                content = file.read()\n",
        "                print(\"File contents:\")\n",
        "                print(content)\n",
        "        else:\n",
        "            print(\"The file is empty.\")\n",
        "    else:\n",
        "        print(f\"The file '{file_path}' does not exist.\")\n",
        "\n",
        "# Specify the path to the file\n",
        "file_path = 'example.txt'\n",
        "\n",
        "# Call the function to read the file if it's not empty\n",
        "read_file_if_not_empty(file_path)\n"
      ],
      "metadata": {
        "colab": {
          "base_uri": "https://localhost:8080/"
        },
        "id": "Vu4LZ7AOtnQS",
        "outputId": "833b0dd4-b085-4000-8d2c-767595b3e60c"
      },
      "execution_count": 28,
      "outputs": [
        {
          "output_type": "stream",
          "name": "stdout",
          "text": [
            "File contents:\n",
            "Hello, this is a test string.\n",
            "This is the second line.\n",
            "\n",
            "This is a new line added to the file.\n",
            "Another line added to the file.\n"
          ]
        }
      ]
    },
    {
      "cell_type": "markdown",
      "source": [
        "23. Write a Python program that writes to a log file when an error occurs during file handling."
      ],
      "metadata": {
        "id": "57ft2-kztt85"
      }
    },
    {
      "cell_type": "code",
      "source": [
        "import logging\n",
        "\n",
        "# Configure the logging module to write error messages to a log file\n",
        "logging.basicConfig(filename='file_error.log', level=logging.ERROR,\n",
        "                    format='%(asctime)s - %(levelname)s - %(message)s')\n",
        "\n",
        "def read_file(file_path):\n",
        "    try:\n",
        "        # Try to open and read the file\n",
        "        with open(file_path, 'r') as file:\n",
        "            content = file.read()\n",
        "            print(content)\n",
        "    except FileNotFoundError as e:\n",
        "        # Log the error if the file is not found\n",
        "        logging.error(f\"FileNotFoundError: The file '{file_path}' was not found. {e}\")\n",
        "        print(f\"Error: The file '{file_path}' was not found.\")\n",
        "    except PermissionError as e:\n",
        "        # Log the error if there is a permission issue\n",
        "        logging.error(f\"PermissionError: You do not have permission to access the file '{file_path}'. {e}\")\n",
        "        print(f\"Error: You do not have permission to access the file '{file_path}'.\")\n",
        "    except Exception as e:\n",
        "        # Log any other unexpected errors\n",
        "        logging.error(f\"Unexpected error occurred while handling the file '{file_path}'. {e}\")\n",
        "        print(f\"An unexpected error occurred: {e}\")\n",
        "\n",
        "# Specify the path to the file\n",
        "file_path = 'example.txt'\n",
        "\n",
        "# Call the function to read the file\n",
        "read_file(file_path)\n"
      ],
      "metadata": {
        "colab": {
          "base_uri": "https://localhost:8080/"
        },
        "id": "-TVoNedIt0xt",
        "outputId": "874c4309-cfcb-41bc-d2a7-06af4a224bba"
      },
      "execution_count": 29,
      "outputs": [
        {
          "output_type": "stream",
          "name": "stdout",
          "text": [
            "Hello, this is a test string.\n",
            "This is the second line.\n",
            "\n",
            "This is a new line added to the file.\n",
            "Another line added to the file.\n"
          ]
        }
      ]
    },
    {
      "cell_type": "code",
      "source": [],
      "metadata": {
        "id": "w39fhQQtpIrn"
      },
      "execution_count": null,
      "outputs": []
    },
    {
      "cell_type": "code",
      "source": [],
      "metadata": {
        "id": "0OeGk-g_ncIt"
      },
      "execution_count": null,
      "outputs": []
    },
    {
      "cell_type": "code",
      "execution_count": null,
      "metadata": {
        "id": "KjAOeztx8Nt6"
      },
      "outputs": [],
      "source": []
    }
  ]
}